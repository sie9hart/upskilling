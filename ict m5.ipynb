{
 "cells": [
  {
   "cell_type": "code",
   "execution_count": null,
   "metadata": {},
   "outputs": [],
   "source": [
    "#1.Write a Python function to check whether a number is perfect or not.\n",
    "def perfect_number(n):\n",
    "    sum = 0\n",
    "    for x in range(1, n):\n",
    "        if n % x == 0:\n",
    "            sum += x\n",
    "    return sum == n\n",
    "print(perfect_number(8))\n"
   ]
  },
  {
   "cell_type": "code",
   "execution_count": null,
   "metadata": {},
   "outputs": [],
   "source": [
    "#2.Write a Python function that accepts a hyphen-separated sequence of words as input and prints\n",
    "def func():\n",
    "        potato=[n for n in input().split('-')];potato.sort()\n",
    "        print('-'.join(potato))\n",
    "        \n",
    "func()"
   ]
  },
  {
   "cell_type": "code",
   "execution_count": null,
   "metadata": {},
   "outputs": [],
   "source": [
    "#3. Write a Python function to check whether a string is a pangram or not.\n",
    "def checkPangram(s):\n",
    "   k = []\n",
    "   for i in range(26):\n",
    "      k.append(False)\n",
    "   for c in s.lower(): \n",
    "      if not c == \" \":\n",
    "         k[ord(c) -ord('a')]=True\n",
    "   for ch in k:\n",
    "      if ch == False:\n",
    "         return False\n",
    "   return True\n",
    "st=input(\"Enter The String        \")\n",
    "if (checkPangram(str1)):\n",
    "   print ('\"'+st+'\"')\n",
    "   print (\"is a pangram\")\n",
    "else:\n",
    "   print ('\"'+st+'\"')\n",
    "   print (\"is not a pangram\")"
   ]
  },
  {
   "cell_type": "code",
   "execution_count": null,
   "metadata": {},
   "outputs": [],
   "source": [
    "#4. Write a Python function that accepts a string and calculate the number of upper case letters and lower case letters.\n",
    "def string_test(s):\n",
    "    d={\"UPPER_CASE\":0, \"LOWER_CASE\":0}\n",
    "    for c in s:\n",
    "        if c.isupper():\n",
    "           d[\"UPPER_CASE\"]+=1\n",
    "        elif c.islower():\n",
    "           d[\"LOWER_CASE\"]+=1\n",
    "        else:\n",
    "           pass\n",
    "    print (\"Original String : \", s)\n",
    "    print (\"No. of Upper case characters : \", d[\"UPPER_CASE\"])\n",
    "    print (\"No. of Lower case Characters : \", d[\"LOWER_CASE\"])\n",
    "\n",
    "string_test('The quick Brow Fox')\n"
   ]
  },
  {
   "cell_type": "code",
   "execution_count": null,
   "metadata": {},
   "outputs": [],
   "source": [
    "#5. Write a Python function to get the sum of a non-negative integer.\n",
    "def sumDigits(n):\n",
    "    if n == 0:\n",
    "        return 0\n",
    "    else:\n",
    "        return n%10 + sumDigits(n//10)\n",
    "    \n",
    "    \n",
    "sumDigits(345) "
   ]
  },
  {
   "cell_type": "code",
   "execution_count": null,
   "metadata": {},
   "outputs": [],
   "source": [
    "#6.Write a Python function to find the greatest common divisor (gcd) of two integers.\n",
    "def gdc(a,b): \n",
    "    if(b==0): \n",
    "        return a \n",
    "    else: \n",
    "        return gdc(b,a%b) \n",
    "a=int(input(\"Enter first number:\"))\n",
    "b=int(input(\"Enter second number:\"))\n",
    "g=gdc(a,b)\n",
    "print (\"The gcd of a and b is : \",end=\"\") \n",
    "print(g)"
   ]
  },
  {
   "cell_type": "code",
   "execution_count": null,
   "metadata": {},
   "outputs": [],
   "source": [
    "#7. Write a Python function to find the (LCM) of two integers.\n",
    "\n",
    "def lcm(x, y):\n",
    "   if x > y:\n",
    "       z = x\n",
    "   else:\n",
    "       z = y\n",
    "\n",
    "   while(True):\n",
    "       if((z % x == 0) and (z % y == 0)):\n",
    "           lcm = z\n",
    "           break\n",
    "       z += 1\n",
    "\n",
    "   return lcm\n",
    "x=int(input(\"Enter first number:\"))\n",
    "y=int(input(\"Enter second number:\"))\n",
    "g=lcm(x, y)\n",
    "print (\"The lcm of a and b is : \",end=\"\") \n",
    "print(g)\n"
   ]
  },
  {
   "cell_type": "code",
   "execution_count": null,
   "metadata": {},
   "outputs": [],
   "source": [
    "#8. Write a Python function that prints out the first n rows of Pascal’s triangle.\n",
    "def pascal_triangle(n):\n",
    "     if n == 0:\n",
    "        return []\n",
    "     elif n == 1:\n",
    "        return [[1]]\n",
    "     else:\n",
    "        new_row = [1]\n",
    "        result = pascal_triangle(n-1)\n",
    "        last_row = result[-1]\n",
    "        for i in range(len(last_row)-1):\n",
    "            new_row.append(last_row[i] + last_row[i+1])\n",
    "        new_row += [1]\n",
    "        \n",
    "        result.append(new_row)\n",
    "        \n",
    "     return result\n",
    "\n",
    "\n",
    "x=int(input(\"Enter first number:\"))\n",
    "\n",
    "\n",
    "pascal_triangle(x)"
   ]
  },
  {
   "cell_type": "code",
   "execution_count": null,
   "metadata": {},
   "outputs": [],
   "source": [
    "#9. Write a Python program to get the current value of the recursion limit.\n",
    "import sys\n",
    "\n",
    "def cvotr():\n",
    "     print()\n",
    "     print(\"cvtor:\")\n",
    "     print(sys.getrecursionlimit())\n",
    "\n",
    "\n",
    "cvotr()\n"
   ]
  },
  {
   "cell_type": "code",
   "execution_count": null,
   "metadata": {},
   "outputs": [],
   "source": [
    "#10. Write a Python program to get numbers divisible by fifteen from a list using an anonymous function.\n",
    "num_list = [45, 90, 60, 30, 120, 105, 220]\n",
    "result = list(filter(lambda x: (x % 15 == 0), num_list))\n",
    "print(\"Numbers divisible by 15 are\",result)"
   ]
  },
  {
   "cell_type": "code",
   "execution_count": null,
   "metadata": {},
   "outputs": [],
   "source": [
    "#11. Write a Python function to filter the positive numbers from a list.\n",
    "n = [-1, -2, 3, 4,-120, 105, 220]\n",
    "positev = list(filter(lambda x: x >0, n))\n",
    "print(\"positev\",positev)"
   ]
  },
  {
   "cell_type": "code",
   "execution_count": null,
   "metadata": {},
   "outputs": [],
   "source": [
    "#12. Write a Python function to compute the product of a list of integers.\n",
    "import functool  \n",
    "nums = [10, 20, 30,]\n",
    "nums_product = functools.reduce( (lambda x, y: x * y), nums)\n",
    "print(\"Product of the numbers : \",nums_product)"
   ]
  },
  {
   "cell_type": "code",
   "execution_count": null,
   "metadata": {},
   "outputs": [],
   "source": [
    "#13.Write a Python function to find the largest palindrome made from the product of two 3-digit numbers.\n",
    "\n",
    "def pal(num):\n",
    "    return str(num) == str(num)[::-1]\n",
    "def largest(l, r):\n",
    "    z = 0\n",
    "    for x in range(r, l, -1):\n",
    "        for y in range(r,l, -1):\n",
    "            if pal(x*y):\n",
    "                if x*y > z:\n",
    "                    z = x*y\n",
    "    return z\n",
    "print (largest(100,999))"
   ]
  },
  {
   "cell_type": "code",
   "execution_count": 7,
   "metadata": {},
   "outputs": [
    {
     "name": "stdout",
     "output_type": "stream",
     "text": [
      "[2, 3, 5, 7, 11, 13, 17, 31, 37, 71, 73, 79, 97, 113, 131, 197, 199, 311, 337, 373, 719, 733, 919, 971, 991, 1193, 1931, 3119, 3779, 7793, 7937, 9311, 9377, 11939, 19391, 19937, 37199, 39119, 71993, 91193, 93719, 93911, 99371, 193939, 199933, 319993, 331999, 391939, 393919, 919393, 933199, 939193, 939391, 993319, 999331]\n"
     ]
    }
   ],
   "source": [
    "#14.Write a Python function to find How many circular primes are there below one million? and print them.\n",
    "\n",
    "\n",
    "import collections  \n",
    "\n",
    "def gen_primes(limit):\n",
    "    D = {}\n",
    "    q = 2\n",
    "    while q <= limit:\n",
    "        if q not in D:\n",
    "            yield q\n",
    "            D[q * q] = [q]\n",
    "        else:\n",
    "            for p in D[q]:\n",
    "                D.setdefault(p + q, []).append(p)\n",
    "            del D[q]       \n",
    "        q += 1 \n",
    "\n",
    "def circular_list(limit):\n",
    "    circular = []\n",
    "\n",
    "    primes = list(gen_primes(limit))\n",
    "\n",
    "    for prime in primes:\n",
    "        string = str(prime)\n",
    "        digits = collections.deque(string)\n",
    "\n",
    "        for rotation in range(1, len(string)):\n",
    "            digits.rotate(1)\n",
    "\n",
    "            if int(\"\".join(digits)) not in primes:\n",
    "                break\n",
    "        else:\n",
    "            circular.append(prime)\n",
    "\n",
    "    return circular\n",
    "\n",
    "print(circular_list(1000000))"
   ]
  },
  {
   "cell_type": "code",
   "execution_count": 12,
   "metadata": {},
   "outputs": [
    {
     "name": "stdout",
     "output_type": "stream",
     "text": [
      "31626\n",
      "504\n",
      "0\n"
     ]
    }
   ],
   "source": [
    "#15.Write a Python function to evaluate the sum of all the amicable numbers under 10000.\n",
    "\n",
    "\n",
    "def amicable_numbers_sum(limit):\n",
    "    if not isinstance(limit, int):\n",
    "        return \"Input is not an integer!\"\n",
    "\n",
    "    if limit < 1:\n",
    "        return \"Input must be bigger than 0!\"\n",
    "\n",
    "    amicables = set()\n",
    "\n",
    "    for num in range(2, limit+1):\n",
    "        if num in amicables:\n",
    "            continue\n",
    "\n",
    "        sum_fact = sum([fact for fact in range(1, num) if num % fact == 0])\n",
    "        sum_fact2 = sum([fact for fact in range(1, sum_fact) if sum_fact % fact == 0])\n",
    "        if num == sum_fact2 and num != sum_fact:\n",
    "            amicables.add(num)\n",
    "            amicables.add(sum_fact2)\n",
    "\n",
    "    return sum(amicables)\n",
    "\n",
    "\n",
    "print(amicable_numbers_sum(9999))\n",
    "print(amicable_numbers_sum(999))\n",
    "print(amicable_numbers_sum(99))\n"
   ]
  },
  {
   "cell_type": "code",
   "execution_count": 34,
   "metadata": {},
   "outputs": [
    {
     "name": "stdout",
     "output_type": "stream",
     "text": [
      "Ways to make change = 73682\n"
     ]
    }
   ],
   "source": [
    "#16.Write a Python function to find How many different ways can £2 be made using any number of coins?\n",
    "\n",
    "def w(target):\n",
    "\n",
    " \n",
    "    coins = [1, 2, 5, 10, 20, 50, 100, 200]\n",
    "    ways = [1] + [0]*target\n",
    "\n",
    "    for coin in coins:\n",
    "        for i in range(coin, target+1):\n",
    "            ways[i] += ways[i-coin]\n",
    "\n",
    "print (\"Ways to make change =\", ways[200])\n",
    "\n",
    "\n"
   ]
  },
  {
   "cell_type": "code",
   "execution_count": 35,
   "metadata": {},
   "outputs": [
    {
     "name": "stdout",
     "output_type": "stream",
     "text": [
      "Move disk 1 from rod A to rod B\n",
      "Move disk 2 from rod A to rod C\n",
      "Move disk 1 from rod B to rod C\n",
      "Move disk 3 from rod A to rod B\n",
      "Move disk 1 from rod C to rod A\n",
      "Move disk 2 from rod C to rod B\n",
      "Move disk 1 from rod A to rod B\n",
      "Move disk 4 from rod A to rod C\n",
      "Move disk 1 from rod B to rod C\n",
      "Move disk 2 from rod B to rod A\n",
      "Move disk 1 from rod C to rod A\n",
      "Move disk 3 from rod B to rod C\n",
      "Move disk 1 from rod A to rod B\n",
      "Move disk 2 from rod A to rod C\n",
      "Move disk 1 from rod B to rod C\n"
     ]
    }
   ],
   "source": [
    "#17.Given 3 poles (A, B, C) with N disks stacked on A, move all the disks from A to C such that a disk with a larger radius is always below a disk with a smaller one. Only 1 disk can be moved at a time.\n",
    "def TowerOfHanoi(n , from_radius, to_radius, aux_radius): \n",
    "    if n == 1: \n",
    "        print (\"Move disk 1 from rod\",from_radius,\"to rod\",to_radius) \n",
    "        return\n",
    "    TowerOfHanoi(n-1, from_radius, aux_radius, to_radius) \n",
    "    print (\"Move disk\",n,\"from rod\",from_radius,\"to rod\",to_radius )\n",
    "    TowerOfHanoi(n-1, aux_radius, to_radius, from_radius) \n",
    "\n",
    "n = 4\n",
    "TowerOfHanoi(n, 'A', 'C', 'B') \n",
    " \n",
    " \n"
   ]
  },
  {
   "cell_type": "code",
   "execution_count": null,
   "metadata": {},
   "outputs": [],
   "source": []
  }
 ],
 "metadata": {
  "kernelspec": {
   "display_name": "Python 3",
   "language": "python",
   "name": "python3"
  },
  "language_info": {
   "codemirror_mode": {
    "name": "ipython",
    "version": 3
   },
   "file_extension": ".py",
   "mimetype": "text/x-python",
   "name": "python",
   "nbconvert_exporter": "python",
   "pygments_lexer": "ipython3",
   "version": "3.7.3"
  }
 },
 "nbformat": 4,
 "nbformat_minor": 2
}
