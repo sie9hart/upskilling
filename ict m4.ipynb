{
 "cells": [
  {
   "cell_type": "code",
   "execution_count": null,
   "metadata": {},
   "outputs": [],
   "source": [
    "#1. Write a Python program to find the second largest number in a list.\n",
    "a=[]\n",
    "n=int(input(\"Enter number of elements:\"))\n",
    "for i in range(1,n+1):\n",
    "    b=int(input(\"Enter element:\"))\n",
    "    a.append(b)\n",
    "a.sort()\n",
    "print(\"Second largest element is:\",a[n-2])"
   ]
  },
  {
   "cell_type": "code",
   "execution_count": null,
   "metadata": {},
   "outputs": [],
   "source": [
    "#2. Write a Python program to find the index of the second largest number in a list.\n",
    "a=[]\n",
    "n=int(input(\"Enter number of elements:\"))\n",
    "for i in range(1,n+1):\n",
    "    b=int(input(\"Enter element:\"))\n",
    "    a.append(b)\n",
    "a.sort()\n",
    "x=a[n-3]\n",
    "print(\"Second largest element is:\",a[n-2])\n",
    "print(\"Second largest index is:\",x)\n"
   ]
  },
  {
   "cell_type": "code",
   "execution_count": null,
   "metadata": {},
   "outputs": [],
   "source": [
    "#3. Write a Python program to check a container is empty or not.\n",
    " \n",
    "\n",
    "k= []\n",
    "if not k:\n",
    "  print(\"List is empty\")"
   ]
  },
  {
   "cell_type": "code",
   "execution_count": null,
   "metadata": {},
   "outputs": [],
   "source": [
    "#4. Write a Python program using Sieve of Eratosthenes method for computing primes upto a specified number.\n",
    "def prime_eratosthenes(n):\n",
    "    prime_list = []\n",
    "    for i in range(2, n+1):\n",
    "        if i not in prime_list:\n",
    "            print (i)\n",
    "            for j in range(i*i, n+1, i):\n",
    "                prime_list.append(j)\n",
    "\n",
    "print(prime_eratosthenes(100));"
   ]
  },
  {
   "cell_type": "code",
   "execution_count": null,
   "metadata": {},
   "outputs": [],
   "source": [
    "#5. Given a list slice it into a 3 equal chunks and print each list.\n",
    "a=[]\n",
    "n=int(input(\"Enter number of elements:\"))\n",
    "for i in range(1,n+1):\n",
    "    b=int(input(\"Enter element:\"))\n",
    "    a.append(b)\n",
    "    \n",
    "    \n",
    "x=0\n",
    "y=n\n",
    "for i in range(x,y,int(n/3)):\n",
    "    x=i\n",
    "    print (a[x:x+int(n/3)])\n",
    "\n",
    "    \n",
    "    \n"
   ]
  },
  {
   "cell_type": "code",
   "execution_count": null,
   "metadata": {},
   "outputs": [],
   "source": [
    "#6. Write a Python program to sort a list in descending order.\n",
    "a=[]\n",
    "n=int(input(\"Enter number of elements:\"))\n",
    "for i in range(1,n+1):\n",
    "    b=int(input(\"Enter element:\"))\n",
    "    a.append(b)\n",
    "\n",
    "\n",
    "\n",
    "a.sort(reverse = True) \n",
    "  \n",
    "print(a) "
   ]
  },
  {
   "cell_type": "code",
   "execution_count": null,
   "metadata": {},
   "outputs": [],
   "source": [
    "#7. Write a Python program to reverse a list.\n",
    "a=[]\n",
    "n=int(input(\"Enter number of elements:\"))\n",
    "for i in range(1,n+1):\n",
    "    b=int(input(\"Enter element:\"))\n",
    "    a.append(b)\n",
    "\n",
    "def Reverse(a): \n",
    "    a.reverse() \n",
    "    return a\n",
    "\n",
    "\n",
    " \n",
    "  \n",
    "print(Reverse(a))"
   ]
  },
  {
   "cell_type": "code",
   "execution_count": null,
   "metadata": {},
   "outputs": [],
   "source": [
    "#8. Write a Python program to flatten a 2-D list.\n",
    "[j for sub in [[1,2,3],[1,2],[1,4,5,6,7]] for j in sub]"
   ]
  },
  {
   "cell_type": "code",
   "execution_count": null,
   "metadata": {},
   "outputs": [],
   "source": [
    "#9. Given an input list removes the element at index 4 and add it to the 2nd position and also at the end of the list.\n",
    "lis = [2, 1, 3, 5, 4, 3, 8]\n",
    "lis.pop(4)\n",
    "for i in range(0, len(lis)): \n",
    "   print(lis[i], end=\" \")\n",
    "\n",
    "\n",
    "print(\"\\n\")\n",
    "\n",
    "\n",
    "lis.insert(1, 4)\n",
    "for i in range(0, len(lis)): \n",
    "    print(lis[i], end=\" \",)\n",
    "lis.insert(7, 4) \n",
    "\n",
    "\n",
    "print(\"\\n\")\n",
    "\n",
    "\n",
    "for i in range(0, len(lis)): \n",
    "    \n",
    "    print(lis[i], end=\" \") \n"
   ]
  },
  {
   "cell_type": "code",
   "execution_count": null,
   "metadata": {},
   "outputs": [],
   "source": [
    "#10. Given a two list of equal size create a set such that it shows only the common elements from both lists.\n",
    "a=\n",
    "n=int(input(\"Enter number of elements:\"))\n",
    "for i in range(1,n+1):\n",
    "    h=int(input(\"Enter element:\"))\n",
    "    a.append(b)\n",
    "    \n",
    "    \n",
    "    \n",
    "    g=[]\n",
    "m=int(input(\"Enter number of elements:\"))\n",
    "for i in range(1,n+1):\n",
    "    v=int(input(\"Enter element:\"))\n",
    "    g.append(v)\n",
    "    \n",
    "    \n",
    "    \n",
    "    \n",
    "    \n",
    "    if n==m:\n",
    "        print (list(set(a).intersection(g)))\n",
    "\n",
    "\n",
    "    \n",
    "    \n",
    "    \n",
    "    \n",
    "    \n",
    "        \n",
    "        \n",
    "\n",
    "    \n",
    "\n",
    "    \n"
   ]
  },
  {
   "cell_type": "code",
   "execution_count": null,
   "metadata": {},
   "outputs": [],
   "source": [
    "#11. Given a two list of equal size create a tuple such that it shows elements from both lists in pairs\n",
    "list1 =[]\n",
    "\n",
    "\n",
    "n=int(input(\"Enter number of elements:\"))\n",
    "for i in range(1,n+1):\n",
    "    h=int(input(\"Enter element:\"))\n",
    "    list1.append(h)\n",
    "    \n",
    "list2 =[]\n",
    "\n",
    "\n",
    "m=int(input(\"Enter number of elements:\"))\n",
    "for i in range(1,n+1):\n",
    "    v=int(input(\"Enter element:\"))\n",
    "    list2.append(v)\n",
    "    \n",
    "    \n",
    "    \n",
    "    \n",
    "    \n",
    "    pairs = [(a, b) for a in list1 for b in list2 if a != b] \n",
    "    if n==m:       \n",
    "        print(pairs) "
   ]
  },
  {
   "cell_type": "code",
   "execution_count": null,
   "metadata": {},
   "outputs": [],
   "source": [
    "#12. Write a Python program to iterate and extract all key-value pair of a dictionary and print them.\n",
    "coutrysAndCapitals = { \n",
    "                     'jordan' : 'amman', \n",
    "                     'usa' : 'washington', \n",
    "                     'france' : 'paris', \n",
    "                     'spine' : 'madread'\n",
    "                    } \n",
    "                      \n",
    "print('List Of given coutrys and their capitals:\\n') \n",
    "  \n",
    "for coutrys, capital in coutrysAndCapitals.items(): \n",
    "    print(coutrys, \":\", capital)"
   ]
  },
  {
   "cell_type": "code",
   "execution_count": null,
   "metadata": {},
   "outputs": [],
   "source": [
    "#13. Iterate a given list and Check if a given element already exists in a dictionary as a key’s value if not delete it from the list.\n",
    "\n",
    "x=[\"Hello\",\"at\",\"test\",\"this\",\"k\",\"moh\"]\n",
    "\n",
    "wordFreqDic = {\n",
    "    \"Hello\": 56,\n",
    "    \"at\" : 23 ,\n",
    "    \"test\" : 43,\n",
    "    \"this\" : 78\n",
    "    }\n",
    "n=input(\"Enter ur word:\")\n",
    "\n",
    "if n in wordFreqDic:\n",
    "    print(\"Yes this  key exists in dict\")\n",
    "elif n in x:            \n",
    "    x.remove(n);print(x)\n",
    "    \n"
   ]
  },
  {
   "cell_type": "code",
   "execution_count": null,
   "metadata": {},
   "outputs": [],
   "source": [
    "#14. Given a dictionary get all values from the dictionary and add it in a list but don’t add duplicates.\n",
    "\n",
    "test_list = [{\"k\" : 1}, {\"kll\" : 2}, {\"k\" : 3}, {\"Kll\" : 2}, {\"k\" : 3}] \n",
    "  \n",
    "  \n",
    "print (\"original list : \" + str(test_list)) \n",
    "  \n",
    " \n",
    "res_list = [] \n",
    "for i in range(len(test_list)): \n",
    "    if test_list[i] not in test_list[i + 1:]: \n",
    "        res_list.append(test_list[i]) \n",
    "  \n",
    "print (\"ist without dup : \" + str(res_list))"
   ]
  },
  {
   "cell_type": "code",
   "execution_count": null,
   "metadata": {},
   "outputs": [],
   "source": [
    "#15. Write a Python program which accepts a sequence of comma-separated numbers from user and generate a list and tuple with those numbers.\n",
    "values = input(\"Input some comma seprated numbers : \")\n",
    "list = values.split(\",\")\n",
    "tuple = tuple(list)\n",
    "print('List : ',list)\n",
    "print('Tuple : ',tuple)"
   ]
  },
  {
   "cell_type": "code",
   "execution_count": null,
   "metadata": {},
   "outputs": [],
   "source": [
    "#16. Write a Python program to count the number 4 in a given list.\n",
    "def list_count_4(nums):\n",
    "  count = 0  \n",
    "  for num in nums:\n",
    "    if num == 4:\n",
    "      count = count + 1\n",
    "\n",
    "  return count\n",
    "\n",
    "print(list_count_4([1, 4, 6, 7, 4]))\n",
    "print(list_count_4([1, 4, 6, 4, 7, 4]))"
   ]
  },
  {
   "cell_type": "code",
   "execution_count": null,
   "metadata": {},
   "outputs": [],
   "source": [
    "#17.Write a Python program to print all even numbers from a given numbers list in the same order and stop the printing if any numbers that come after 237 in the sequence.\n",
    "numbers = [    \n",
    "    386, 462, 47, 418, 907, 344, 236, 375, 823, 566, 597, 978, 328, 615, 953, 345, \n",
    "    399, 162, 758, 219, 918, 237, 412, 566, 826, 248, 866, 950, 626, 949, 687, 217, \n",
    "    815, 67, 104, 58, 512, 24, 892, 894, 767, 553, 81, 379, 843, 831, 445, 742, 717, \n",
    "    958,743, 527\n",
    "    ]\n",
    "\n",
    "for x in numbers:\n",
    "    if x == 237:\n",
    "        print(x)\n",
    "        break;\n",
    "    elif x % 2 == 0:\n",
    "        print(x)"
   ]
  },
  {
   "cell_type": "code",
   "execution_count": null,
   "metadata": {},
   "outputs": [],
   "source": [
    "#18. Write a Python program to print the length of the series and the series starting from the 3rd term, ending at the 3rd last term and the sum of a series.\n",
    "tn = int(input(\"Input third term of the series:\"))\n",
    "tltn = int(input(\"Input 3rd last term:\"))\n",
    "s_sum = int(input(\"Sum of the series:\"))\n",
    "n = int(2*s_sum/(tn+tltn))\n",
    "print(\"Length of the series: \",n)\n",
    "\n",
    "\n",
    "if n-5==0:\n",
    "  d = (s_sum-3*tn)//6\n",
    "else:\n",
    "  d = (tltn-tn)/(n-5)\n",
    "\n",
    "a = tn-2*d\n",
    "j = 0\n",
    "print(\"Series:\")\n",
    "for j in range(n-1):\n",
    "  print(int(a),end=\" \")\n",
    "  a+=d\n",
    "print(int(a),end=\" \")"
   ]
  },
  {
   "cell_type": "code",
   "execution_count": null,
   "metadata": {},
   "outputs": [],
   "source": [
    "#19. Write a Python program to get a list, sorted in increasing order by the last element in each tuple from a given list of non-empty tuples.\n",
    "def last(n): return n[-1]\n",
    "\n",
    "def sort_list_last(tuples):\n",
    "  return sorted(tuples, key=last)\n",
    "\n",
    "print(sort_list_last([(2, 5), (1, 2), (4, 4), (2, 3), (2, 1)]))"
   ]
  },
  {
   "cell_type": "code",
   "execution_count": null,
   "metadata": {},
   "outputs": [],
   "source": [
    "#20. Write a Python program to create a list by concatenating a given list which range goes from 1 to n.\n",
    "my_list = ['p', 'q']\n",
    "n = 4\n",
    "new_list = ['{}{}'.format(x, y) for y in range(1, n+1) for x in my_list]\n",
    "print(new_list)"
   ]
  },
  {
   "cell_type": "code",
   "execution_count": null,
   "metadata": {},
   "outputs": [],
   "source": [
    "#21. Write a Python program to find the biggest row sum of a given matrix.\n",
    "a = [[7, 8, 9],\n",
    "     [4, 5, 6],\n",
    "     [1, 2, 3]];  \n",
    "x=0 \n",
    "\n",
    "for i in a:\n",
    "    if x < sumRow :\n",
    "        x=sumRow\n",
    "    sumRow = sum(i); \n",
    "\n",
    "    \n",
    "        \n",
    "        \n",
    "        \n",
    "        \n",
    "        \n",
    "        \n",
    "print(\"the biggest sum of row is:\", x)\n",
    "    \n",
    "    \n"
   ]
  },
  {
   "cell_type": "code",
   "execution_count": null,
   "metadata": {},
   "outputs": [],
   "source": [
    "#22. Write a Python program to find the biggest row sum of a given matrix.\n",
    "\n",
    "\n",
    "N = 5\n",
    "  \n",
    "def colMaxSum(mat): \n",
    "      \n",
    "     \n",
    "    f = -1\n",
    "  \n",
    "    \n",
    "    maxSum = -10**9\n",
    "  \n",
    "     \n",
    "    for i in range(N): \n",
    "  \n",
    "        Sum = 0\n",
    "  \n",
    "        for j in range(N): \n",
    "            Sum += mat[j][i] \n",
    "  \n",
    "       \n",
    "        if (Sum > maxSum): \n",
    "            maxSum = Sum\n",
    "  \n",
    "           \n",
    "            f = i \n",
    "          \n",
    "     \n",
    "    return f, maxSum \n",
    "  \n",
    "  \n",
    "mat = [[ 1, 2, 3, 4, 5 ], \n",
    "       [ 5, 3, 1, 4, 2 ], \n",
    "       [ 5, 6, 7, 8, 9 ], \n",
    "       [ 0, 6, 3, 4, 12 ], \n",
    "       [ 9, 7, 12, 4, 3 ]] \n",
    "  \n",
    "h, k = colMaxSum(mat) \n",
    "  \n",
    "print(\"Column\", h + 1,     \n",
    "      \"has max Sum\", k)"
   ]
  },
  {
   "cell_type": "code",
   "execution_count": null,
   "metadata": {},
   "outputs": [],
   "source": [
    "#23. Write a guessing game where the user must guess a secret number. After every guess the program tells the user whether their number was too large or too small.\n",
    "from random import randint\n",
    "x=int(input(\"    enter num\"))\n",
    "def guess(x):\n",
    "  it = randint(0, 101)\n",
    "  if x == it:\n",
    "      print(\"You got it!\")\n",
    "  elif x > it:\n",
    "      print(\"too high\")\n",
    "  else:\n",
    "      print(\"too low\")\n",
    "print (guess(x))"
   ]
  },
  {
   "cell_type": "code",
   "execution_count": null,
   "metadata": {},
   "outputs": [],
   "source": [
    "#24. Write a python program to transpose a matrix.\n",
    "X = [[12,7],\n",
    "    [4 ,5],\n",
    "    [3 ,8]]\n",
    "\n",
    "result = [[0,0,0],\n",
    "         [0,0,0]]\n",
    "\n",
    "# iterate through rows\n",
    "for i in range(len(X)):\n",
    "   # iterate through columns\n",
    "   for j in range(len(X[0])):\n",
    "       result[j][i] = X[i][j]\n",
    "\n",
    "for r in result:\n",
    "   print(r)"
   ]
  },
  {
   "cell_type": "code",
   "execution_count": null,
   "metadata": {},
   "outputs": [],
   "source": [
    "#25. Write a python program to perform a 2 matrix multiplication (following the algebra rules of matrix multiplication).\n",
    "X = [[12,7,3],\n",
    "    [4 ,5,6],\n",
    "    [7 ,8,9]]\n",
    "\n",
    "Y = [[5,8,1,2],\n",
    "    [6,7,3,0],\n",
    "    [4,5,9,1]]\n",
    "\n",
    "result = [[0,0,0,0],\n",
    "         [0,0,0,0],\n",
    "         [0,0,0,0]]\n",
    "\n",
    "for i in range(len(X)):\n",
    "   for j in range(len(Y[0])):\n",
    "       for k in range(len(Y)):\n",
    "           result[i][j] += X[i][k] * Y[k][j]\n",
    "\n",
    "for r in result:\n",
    "   print(r)"
   ]
  },
  {
   "cell_type": "code",
   "execution_count": null,
   "metadata": {},
   "outputs": [],
   "source": [
    "#26. Write a python program to inverse a matrix.\n",
    "x = [[1, 2, 3], [4,5, 6], [7, 8, 9]]\n",
    "print('Original List:', x)\n",
    "l=x[0]\n",
    "k=x[1]\n",
    "j=x[2]\n",
    "\n",
    "\n",
    "\n",
    "\n",
    "x=[l[::-1],k[::-1],j[::-1]]\n",
    "\n",
    "\n",
    "print('Updated List:', x)"
   ]
  },
  {
   "cell_type": "code",
   "execution_count": null,
   "metadata": {},
   "outputs": [],
   "source": [
    "def permutation(lst): \n",
    "  \n",
    "    \n",
    "    if len(lst) == 0: \n",
    "        return [] \n",
    "  \n",
    "   \n",
    "    if len(lst) == 1: \n",
    "        return [lst] \n",
    "  \n",
    "    \n",
    "  \n",
    "    l = [] \n",
    "  \n",
    "     \n",
    "    for i in range(len(lst)): \n",
    "       m = lst[i] \n",
    "  \n",
    "      \n",
    "       remLst = lst[:i] + lst[i+1:] \n",
    "  \n",
    "       \n",
    "       for p in permutation(remLst): \n",
    "           l.append([m] + p) \n",
    "    return l \n",
    "  \n",
    "  \n",
    "data = list('123') \n",
    "for p in permutation(data): \n",
    "    print (p) "
   ]
  },
  {
   "cell_type": "code",
   "execution_count": null,
   "metadata": {},
   "outputs": [],
   "source": [
    "#28. Write a Python program to sort (ascending and descending) a dictionary by its values.\n",
    "import operator\n",
    "d = {1: 2, 3: 4, 4: 3, 2: 1, 0: 0}\n",
    "print('Original dictionary : ',d)\n",
    "sorted_d = sorted(d.items(), key=operator.itemgetter(0))\n",
    "print('Dictionary in ascending order by value : ',sorted_d)\n",
    "sorted_d = dict( sorted(d.items(), key=operator.itemgetter(0),reverse=True))\n",
    "print('Dictionary in descending order by value : ',sorted_d)"
   ]
  },
  {
   "cell_type": "code",
   "execution_count": null,
   "metadata": {},
   "outputs": [],
   "source": [
    "#29. Write a Python program to remove duplicates from Dictionary values.\n",
    "student_data = {'id1': \n",
    "   {'name': ['Sara'], \n",
    "    'class': ['V'], \n",
    "    'subject_integration': ['english, math, science']\n",
    "   },\n",
    " 'id2': \n",
    "  {'name': ['David'], \n",
    "    'class': ['V'], \n",
    "    'subject_integration': ['english, math, science']\n",
    "   },\n",
    " 'id3': \n",
    "    {'name': ['Sara'], \n",
    "    'class': ['V'], \n",
    "    'subject_integration': ['english, math, science']\n",
    "   },\n",
    " 'id4': \n",
    "   {'name': ['Surya'], \n",
    "    'class': ['V'], \n",
    "    'subject_integration': ['english, math, science']\n",
    "   },\n",
    "}\n",
    "\n",
    "result = {}\n",
    "\n",
    "for key,value in student_data.items():\n",
    "    if value not in result.values():\n",
    "        result[key] = value\n",
    "\n",
    "print(result)"
   ]
  },
  {
   "cell_type": "code",
   "execution_count": null,
   "metadata": {},
   "outputs": [],
   "source": [
    "#30. Write a Python program to print all unique values in a dictionary with their keys.\n",
    "L = [{\"V\":\"S001\"}, {\"V\": \"S002\"}, {\"VI\": \"S001\"}, {\"VI\": \"S005\"}, {\"VII\":\"S005\"}, {\"V\":\"S009\"},{\"VIII\":\"S007\"}]\n",
    "print(\"Original List: \",L)\n",
    "u_value = set( val for dic in L for val in dic.values())\n",
    "print(\"Unique Values: \",u_value)\n"
   ]
  },
  {
   "cell_type": "code",
   "execution_count": null,
   "metadata": {},
   "outputs": [],
   "source": [
    "#31. Write a Python program to find the keys of the highest 3 values in a dictionary.\n",
    "\n",
    "\n",
    "from heapq import nlargest\n",
    "my_dict = {'a':500, 'b':5874, 'c': 560,'d':400, 'e':5874, 'f': 20}  \n",
    "three_largest = nlargest(3, my_dict, key=my_dict.get)\n",
    "print(three_largest)"
   ]
  },
  {
   "cell_type": "code",
   "execution_count": null,
   "metadata": {},
   "outputs": [],
   "source": [
    "#32.Given a list, traverse it and count the occurrence of each element and create a dictionary to show the count of each element.\n",
    "def CountFrequency(my_list): \n",
    "  \n",
    "    freq = {} \n",
    "    for item in my_list: \n",
    "        if (item in freq): \n",
    "            freq[item] += 1\n",
    "        else: \n",
    "            freq[item] = 1\n",
    "  \n",
    "    for key, value in freq.items(): \n",
    "        print (\"% d : % d\"%(key, value)) \n",
    "  \n",
    "if __name__ == \"__main__\":  \n",
    "    my_list =[1, 1, 1, 5, 5, 3, 1, 3, 3, 1, 4, 4, 4, 2, 2, 2, 2] \n",
    "  \n",
    "    CountFrequency(my_list) "
   ]
  },
  {
   "cell_type": "code",
   "execution_count": null,
   "metadata": {},
   "outputs": [],
   "source": [
    "#33. Given two sets find the intersection and remove the resulted elements from the first set.\n",
    "\n",
    "set1 = {2, 4, 5, 6}  \n",
    "set2 = {4, 6, 7, 8}  \n",
    "\n",
    "  \n",
    "\n",
    "print(\"set1 intersection set2 : \", set1.intersection(set2)) ;print (set1.difference(set2))\n"
   ]
  },
  {
   "cell_type": "code",
   "execution_count": null,
   "metadata": {},
   "outputs": [],
   "source": [
    "#34. Given two sets, Checks if One Set is subset or superset of Another Set. if it is a subset, delete all elements (not the set) from that set.\n",
    "\n",
    "test_list = [9, 4, 5, 8, 10] \n",
    "sub_list = [10, 5, 4] \n",
    "  \n",
    "\n",
    "print (\"Original list : \" + str(test_list)) \n",
    "print (\"Original sub list : \" + str(sub_list)) \n",
    "  \n",
    "  \n",
    "flag = 0\n",
    "if(all(x in test_list for x in sub_list)): \n",
    "    flag = 1\n",
    "      \n",
    "if (flag) : \n",
    "    print (\"Yes, list is subset of other.\") \n",
    "    sub_list.clear()\n",
    "    print(sub_list)\n",
    "else : \n",
    "    print (\"No, list is not subset of other.\") "
   ]
  },
  {
   "cell_type": "code",
   "execution_count": null,
   "metadata": {},
   "outputs": [],
   "source": [
    "#35.Write a Python program to print out a set containing all the item from list_1 which are not present in list_2.\n",
    "color_list_1 = set([\"White\", \"Black\", \"Red\"])\n",
    "color_list_2 = set([\"Red\", \"Green\"])\n",
    "print(color_list_1.difference(color_list_2))"
   ]
  },
  {
   "cell_type": "code",
   "execution_count": null,
   "metadata": {},
   "outputs": [],
   "source": [
    "#36. Write a Python program to find a distinct pair of numbers whose all product are odd from a sequence of integer values.\n",
    "def odd_product(nums):\n",
    "  for i in range(len(nums)):\n",
    "    for j in range(len(nums)):\n",
    "      if  i != j:\n",
    "        product = nums[i] * nums[j]\n",
    "        if product & 1:\n",
    "          return True\n",
    "          return False\n",
    "          \n",
    "dt1 = [2, 4, 6, 8]\n",
    "dt2 = [1, 6, 4, 7, 8]\n",
    "print(dt1, odd_product(dt1));\n",
    "print(dt2, odd_product(dt2))"
   ]
  },
  {
   "cell_type": "code",
   "execution_count": null,
   "metadata": {},
   "outputs": [],
   "source": [
    "#37. Write a Python program to compute the summation of the absolute difference of all distinct pairs in an given array (non-decreasing order).\n",
    "def sum_distinct_pairs(arr):\n",
    "    result = 0\n",
    "    i = 0\n",
    "    while i<len(arr):\n",
    "        result+=i*arr[i]-(len(arr)-i-1)*arr[i]\n",
    "        i+=1\n",
    "    return result\n",
    "print(sum_distinct_pairs([1,2,3]))\n",
    "print(sum_distinct_pairs([1,4,5]))"
   ]
  },
  {
   "cell_type": "code",
   "execution_count": null,
   "metadata": {},
   "outputs": [],
   "source": [
    "#38. Write a Python program to find the difference between the largest possible integer and the smallest possible integer which are created by maximum 4 digits each digit contains a value\n",
    "print(\"Input an integer created by 4 numbers from 0 to 9.:\")\n",
    "num = list(input())\n",
    "print(\"Difference between the largest and the smallest integer from the given integer:\")\n",
    "print(int(\"\".join(sorted(num,reverse=True))) - int(\"\".join(sorted(num))))"
   ]
  },
  {
   "cell_type": "code",
   "execution_count": null,
   "metadata": {},
   "outputs": [],
   "source": [
    " #39. Write a Python program which adds up column and row of given table.\n",
    "while True:\n",
    "    print(\"Input number of rows/columns (0 to exit)\")\n",
    "    n = int(input())\n",
    "    if n == 0:\n",
    "        break\n",
    "    print(\"Input cell value:\")\n",
    "    x = []\n",
    "    for i in range(n):\n",
    "        x.append([int(num) for num in input().split()])\n",
    "\n",
    "    for i in range(n):\n",
    "        sum = 0\n",
    "        for j in range(n):\n",
    "            sum += x[i][j]\n",
    "        x[i].append(sum)\n",
    "\n",
    "    x.append([])\n",
    "    for i in range(n + 1):\n",
    "        sum = 0\n",
    "        for j in range(n):\n",
    "            sum += x[j][i]\n",
    "        x[n].append(sum)\n",
    "    print(\"Result:\")\n",
    "    for i in range(n + 1):\n",
    "        for j in range(n + 1):\n",
    "            print('{0:>5}'.format(x[i][j]), end=\"\")\n",
    "        print()"
   ]
  },
  {
   "cell_type": "code",
   "execution_count": null,
   "metadata": {},
   "outputs": [],
   "source": [
    "#40. Write a Python program to count the number of strings where the string length is 2 or more and the first and last character are same from a given list of strings.\n",
    "def match_words(words):\n",
    "  ctr = 0\n",
    "\n",
    "  for word in words:\n",
    "    if len(word) > 1 and word[0] == word[-1]:\n",
    "      ctr += 1\n",
    "  return ctr\n",
    "\n",
    "print(match_words(['abc', 'xyz', 'aba', '1221']))"
   ]
  },
  {
   "cell_type": "code",
   "execution_count": null,
   "metadata": {},
   "outputs": [],
   "source": [
    "#41. Write a Python program that takes two lists and returns True if they have at least 3 common member.\n",
    "def common_data(list1, list2):\n",
    "    result = 0\n",
    "    for x in list1:\n",
    "        for y in list2:\n",
    "            if x == y:\n",
    "                result += 1\n",
    "    if result >= 3:\n",
    "        return True\n",
    "    else:\n",
    "        return False\n",
    "        \n",
    "print(common_data([1,2,3,4,5], [1,2,5,8,9]))\n",
    "print(common_data([1,2,3,4,5], [6,7,8,9]))"
   ]
  },
  {
   "cell_type": "code",
   "execution_count": 6,
   "metadata": {},
   "outputs": [
    {
     "name": "stdout",
     "output_type": "stream",
     "text": [
      "[1, 4, 9, 16, 25]\n",
      "[256, 289, 324, 361, 400]\n"
     ]
    }
   ],
   "source": [
    "#42. Write a Python program to generate a list of 15 values and print the list with the first and last 5 elements are squared.\n",
    "def printValues():\n",
    "    l = list()\n",
    "    for i in range(1,21):\n",
    "        l.append(i**2)\n",
    "    print(l[:5])\n",
    "    print(l[-5:])\n",
    "    \n",
    "    \n",
    "printValues()\n"
   ]
  },
  {
   "cell_type": "code",
   "execution_count": 14,
   "metadata": {},
   "outputs": [
    {
     "name": "stdout",
     "output_type": "stream",
     "text": [
      "first n natural numbers, n =10\n",
      "difference between sum of squares and square of sums= 2640\n"
     ]
    }
   ],
   "source": [
    "#43.Find the difference between the sum of the squares of the first one hundred natural numbers and the square of the sum.\n",
    "\n",
    "n = int(input('first n natural numbers, n ='))\n",
    "print (  \"difference between sum of squares and square of sums=\", n*(n-1)*(n+1)*(3*n+2)//12)\n"
   ]
  },
  {
   "cell_type": "code",
   "execution_count": 15,
   "metadata": {},
   "outputs": [
    {
     "name": "stdout",
     "output_type": "stream",
     "text": [
      "[{'a': 'Name', 'b': 'Yazeed'}, {'a': 'Age', 'b': '21'}, {'a': 'ID', 'b': '1536698'}, {'a': 'Phone', 'b': '0798529788'}]\n"
     ]
    }
   ],
   "source": [
    "#44. Write a Python program to convert list to list of dictionaries.\n",
    "a = [\"Name\", \"Age\", \"ID\", \"Phone\"]\n",
    "b = [\"Yazeed\", \"21\", \"1536698\", \"0798529788\"]\n",
    "print([{'a': f, 'b': c} for f, c in zip(a, b)])\n"
   ]
  },
  {
   "cell_type": "code",
   "execution_count": 17,
   "metadata": {},
   "outputs": [
    {
     "name": "stdout",
     "output_type": "stream",
     "text": [
      "item4 55\n",
      "item1 45.5\n",
      "item3 41.3\n"
     ]
    }
   ],
   "source": [
    "#45. Write a Python program to get the top three items in a shop.\n",
    "from heapq import nlargest\n",
    "from operator import itemgetter\n",
    "items = {'item1': 45.50, 'item2':35, 'item3': 41.30, 'item4':55, 'item5': 24}\n",
    "for name, value in nlargest(3, items.items(), key=itemgetter(1)):\n",
    "    print(name, value)"
   ]
  },
  {
   "cell_type": "code",
   "execution_count": 21,
   "metadata": {},
   "outputs": [
    {
     "name": "stdout",
     "output_type": "stream",
     "text": [
      "[{'id': 1, 'subject': 'math', 'V+VI': 152}, {'id': 2, 'subject': 'math', 'V+VI': 147}, {'id': 3, 'subject': 'math', 'V+VI': 161}]\n"
     ]
    }
   ],
   "source": [
    "#46. Write a Python program to replace dictionary values with their sum.\n",
    "def sum_math_v_vi_sum(list_of_dicts):\n",
    "    for d in list_of_dicts:\n",
    "        n1 = d.pop('V')\n",
    "        n2 = d.pop('VI')\n",
    "        d['V+VI'] = (n1 + n2)\n",
    "    return list_of_dicts \n",
    "student_details= [\n",
    "  {'id' : 1, 'subject' : 'math', 'V' : 70, 'VI' : 82},\n",
    "  {'id' : 2, 'subject' : 'math', 'V' : 73, 'VI' : 74},\n",
    "  {'id' : 3, 'subject' : 'math', 'V' : 75, 'VI' : 86}]\n",
    "print(sum_math_v_vi_sum(student_details))"
   ]
  },
  {
   "cell_type": "code",
   "execution_count": null,
   "metadata": {},
   "outputs": [],
   "source": []
  }
 ],
 "metadata": {
  "kernelspec": {
   "display_name": "Python 3",
   "language": "python",
   "name": "python3"
  },
  "language_info": {
   "codemirror_mode": {
    "name": "ipython",
    "version": 3
   },
   "file_extension": ".py",
   "mimetype": "text/x-python",
   "name": "python",
   "nbconvert_exporter": "python",
   "pygments_lexer": "ipython3",
   "version": "3.7.4"
  }
 },
 "nbformat": 4,
 "nbformat_minor": 2
}
