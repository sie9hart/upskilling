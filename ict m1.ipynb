{
 "cells": [
  {
   "cell_type": "code",
   "execution_count": null,
   "metadata": {},
   "outputs": [],
   "source": [
    "#1. Write a Python program to parse a string to Float or Integer. and print the type of them\n",
    "n = \"246.2458\"\n",
    "print(float(n))\n",
    "print(int(float(n)))\n"
   ]
  },
  {
   "cell_type": "code",
   "execution_count": null,
   "metadata": {},
   "outputs": [],
   "source": [
    "#2. Write a Python program to print two values without newline or space.\n",
    "print(\"Good Morning!\", end = '')\n",
    "print(\"What a wonderful day!\")"
   ]
  },
  {
   "cell_type": "markdown",
   "metadata": {},
   "source": [
    "# 3. Write a program that takes an input from the user and checks if it’s divisible by 3 or not.\n",
    
    "num1=int(input(\"Enter your number:\"))\n",
    "if(num1%3==0):\n",
    "    print(\"{} is divisible by 3\".format(num1))\n",
    "else:\n",
    "    print(\"{} is not divisible by 3\".format(num1))\n"
   ]
  },
  {
   "cell_type": "code",
   "execution_count": null,
   "metadata": {},
   "outputs": [],
   "source": [
    "#4. Write a program that reads three integers (a, b, and c), computes the following formulas and\n",
    "#stores the results in the variables x1, x2 and prints the results of the program.\n",
    "a=int(input(\"Enter your number1:\"))\n",
    "b=int(input(\"Enter your number2:\"))\n",
    "c=int(input(\"Enter your number3:\"))\n",
    "x1=(((-b)+(c^4))/(2*a))-(3*((a+(b^2))))/(c)\n",
    "x2=((a+(b^3))^2)/(c-(a^2))\n",
    "print(x1)\n",
    "print(x2)\n"
   ]
  },
  {
   "cell_type": "code",
   "execution_count": null,
   "metadata": {},
   "outputs": [],
   "source": [
    "#5.Write python program that reads two numbers a and b. Print the maximum value of the two numbers.\n",
    "num1=int(input(\"enter the first number:\"))\n",
    "num2=int(input(\"enter the second number:\"))\n",
    "if num1>=num2:\n",
    "    large=num1\n",
    "else:\n",
    "    large=num2\n",
    "    print(\"the largest number is:\",large)"
   ]
  },
  {
   "cell_type": "code",
   "execution_count": null,
   "metadata": {},
   "outputs": [],
   "source": [
    "#6. Write a program that reads three input values. Output the maximum value of the three.\n",
    "\n",
    "num1=int(input(\"Enter your number1:\"))\n",
    "num2=int(input(\"Enter your number2:\"))\n",
    "num3=int(input(\"Enter your number3:\"))\n",
    "\n",
    "if (num1 >= num2) and (num1 >= num3):\n",
    "    \n",
    "   largest = num1\n",
    "elif (num2 >= num1) and (num2 >= num3):\n",
    "   largest = num2\n",
    "else:\n",
    "   largest = num3\n",
    "\n",
    "print(\"The largest number between\",num1,\",\",num2,\"and\",num3,\"is\",largest)"
   ]
  },
  {
   "cell_type": "code",
   "execution_count": null,
   "metadata": {
    "scrolled": true
   },
   "outputs": [],
   "source": [
    "#7. Write a program that reads two values a and b. If b is 0, output ”b is 0”. Otherwise output\n",
    "#the result of the division of a by b (a/b).\n",
    "\n",
    "a=int(input(\"enter the first number:\"))\n",
    "\n",
    "b=int(input(\"enter the second number:\"))\n",
    "\"b=0\" if b==0 else (a/b) \n",
    "\n",
    "\n",
    "\n"
   ]
  },
  {
   "cell_type": "code",
   "execution_count": null,
   "metadata": {},
   "outputs": [],
   "source": [
    "#8.Write a program to convert days into years, weeks and days.\n",
    "\n",
    "DAYS_IN_WEEK = 7\n",
    "  \n",
    "\n",
    "def find( number_of_days ): \n",
    "  \n",
    "   \n",
    "    year = int(number_of_days / 365) \n",
    "    week = int((number_of_days % 365) / \n",
    "                DAYS_IN_WEEK) \n",
    "    days = (number_of_days % 365) % DAYS_IN_WEEK \n",
    "      \n",
    "    print(\"years = \",year, \n",
    "          \"\\nweeks = \",week, \n",
    "          \"\\ndays = \",days) \n",
    "      \n",
    "\n",
    "number_of_days=int(input(\"enter the number_of_days:\"))\n",
    "find(number_of_days) "
   ]
  },
  {
   "cell_type": "code",
   "execution_count": null,
   "metadata": {},
   "outputs": [],
   "source": [
    "#9. Write a program to read temperature in Celsius and convert it into Fahrenheit.\n",
    "celsius = float(input(\"enter the temperature degree in celsius :\"))\n",
    "\n",
    "# calculate fahrenheit\n",
    "fahrenheit = (celsius * 1.8) + 32\n",
    "print('%0.1f degree Celsius is equal to %0.1f degree Fahrenheit' %(celsius,fahrenheit))"
   ]
  },
  {
   "cell_type": "code",
   "execution_count": null,
   "metadata": {},
   "outputs": [],
   "source": [
    "#10. Write a program that reads two oat number and stores their values in variable x and y. the\n",
    "#program then computes the value (x2 −y2) = (x−y) , stores the result in stores the result in a\n",
    "#float named z and print the value of z. if the computation division by zero, the program must\n",
    "#avoid that by printing an error message and exiting before computing the formula.\n",
    "\n",
    "x=int(input(\"enter the first number:\"))\n",
    "y=int(input(\"enter the second number:\"))\n",
    "k=((x^2)-(y^2))\n",
    "j=(x-y)\n",
    "k=j=float(z)\n",
    "if (z/0) :\n",
    "    print(\"this programe can't this operation\".format(num1))\n",
    "else:\n",
    "    print(\"the result \".format(num1))\n",
    "\n"
   ]
  },
  {
   "cell_type": "code",
   "execution_count": null,
   "metadata": {},
   "outputs": [],
   "source": [
    "#As you know Python has no switch statements so, Write a complete Python application that\n",
    "#asks the user to enter an integer Q-Range (”deviation IQ”) and output the IQ Classification\n",
    "#according to the following table:\n",
    "#Q Range (”deviation IQ”) -> IQ Classification\n",
    "\n",
    "num1 = int(input(\"Enter your number1:\"))\n",
    "\n",
    "    \n",
    "    \n",
    "\n",
    "        \n",
    "    \n",
    "    \n",
    "\n",
    "\n",
    "    \n",
    "if (num1 >= 130):\n",
    "    print(\" Very Superior\");\n",
    "    \n",
    "elif(num1 >= 120) and (num1 <= 129):\n",
    "        \n",
    "        print(\" Superior\");\n",
    "        \n",
    "elif(num1 >= 110) and (num1 <= 119):\n",
    "      print(\" high average\");\n",
    "elif(num1 >= 90) and (num1 <= 109):\n",
    "            print(\" average\");\n",
    "elif(num1 >= 80) and (num1 <= 89):\n",
    "    print(\" low average\");\n",
    "    \n",
    "elif(num1 >= 70) and (num1 <= 79):\n",
    "            \n",
    "        print(\" Borderline\");\n",
    "        \n",
    "else:\n",
    "        \n",
    "    print(\"Extremely Low\");\n",
    "    \n",
    "\n",
    "\n",
    "\n",
    "\n"
   ]
  },
  {
   "cell_type": "code",
   "execution_count": null,
   "metadata": {},
   "outputs": [],
   "source": [
    "#12. Write a program that classifies a student marks as follows:\n",
    "\n",
    "\n",
    "num1 = int(input(\"Enter your number1:\"))\n",
    "if(num1 >= 90) and (num1 <= 100):\n",
    "        \n",
    "        print(\" A\");\n",
    "        \n",
    "elif(num1 >= 80) and (num1 <= 89):\n",
    "        \n",
    "    print(\" B\");\n",
    "    \n",
    "elif(num1 >= 70) and (num1 <= 79):\n",
    "            \n",
    "        print(\" C\");\n",
    "elif(num1 >= 60) and (num1 <= 69):\n",
    "            \n",
    "        print(\" D\");\n",
    "        \n",
    "elif(num1 >= 50) and (num1 <= 59):\n",
    "            \n",
    "        print(\" E\");\n",
    "        \n",
    "        \n",
    "elif(num1 >= 0) and (num1 <= 49):\n",
    "            \n",
    "        print(\" F\");\n",
    "else: \n",
    "    print(\"you enter wrong num\");"
   ]
  },
  {
   "cell_type": "code",
   "execution_count": null,
   "metadata": {},
   "outputs": [],
   "source": [
    "#13. Write a program that tests whether the formula a2 + b2 = c2 is true for three integers entered as input.\n",
    "a=int(input(\"Enter your number1:\"))\n",
    "b=int(input(\"Enter your number2:\"))\n",
    "c=int(input(\"Enter your number3:\"))\n",
    "if ((a^2)+(b^2))==(c^2):\n",
    "    print(\"true\");\n",
    "else:\n",
    "    print(\"false\");"
   ]
  },
  {
   "cell_type": "code",
   "execution_count": null,
   "metadata": {},
   "outputs": [],
   "source": [
    "#14.Write a Python program to check whether an alphabet is vowel or consonant.\n",
    "\n",
    "l = input(\"Input a letter of the alphabet: \")\n",
    "\n",
    "if l  in ('a', 'e', 'i', 'o', 'u'):\n",
    "\n",
    "    print(\"%s is a vowel.\" % l);\n",
    "elif l == 'y':\n",
    "\n",
    "    print(\"Sometimes letter y stand for vowel, sometimes stand for consonant.\");\n",
    "else:\n",
    "\n",
    "    print(\"%s is a consonant.\" % l) \n"
   ]
  },
  {
   "cell_type": "code",
   "execution_count": null,
   "metadata": {},
   "outputs": [],
   "source": [
    "#15. Write a Python program to check whether a number is even or odd.\n",
    "2\n",
    "num = int(input(\"Enter a number: \"))\n",
    "if (num % 2) == 0:\n",
    "   print(\"{0} is Even\".format(num))\n",
    "else:\n",
    "   print(\"{0} is Odd\".format(num))"
   ]
  },
  {
   "cell_type": "code",
   "execution_count": null,
   "metadata": {},
   "outputs": [],
   "source": [
    "#16.Write a Python program to display the current date and time\n",
    "import datetime\n",
    "now = datetime.datetime.now()\n",
    "print (\"Current date and time : \")\n",
    "print (now.strftime(\"%Y-%m-%d %H:%M:%S\"))\n"
   ]
  },
  {
   "cell_type": "code",
   "execution_count": null,
   "metadata": {},
   "outputs": [],
   "source": [
    "#Write a Python program which accepts the radius of a circle from the user and compute the area;\n",
    "from math import pi\n",
    "r = float(input (\"Input the radius of the circle : \"))\n",
    "print (\"The area of the circle with radius \" + str(r) + \" is: \" + str(pi * r**2))"
   ]
  },
  {
   "cell_type": "code",
   "execution_count": null,
   "metadata": {},
   "outputs": [],
   "source": [
    "#18. Write a Python program which accepts the user’s first and last name and print them in reverse order.\n",
    "fname = input(\"Input your First Name : \")\n",
    "lname = input(\"Input your Last Name : \")\n",
    "print (\"Hello  \" + lname + \" \" + fname)"
   ]
  },
  {
   "cell_type": "code",
   "execution_count": null,
   "metadata": {},
   "outputs": [],
   "source": [
    "#19.Write a Python program to read a three numbers from the user and display them as follow.\n",
    "a=int(input(\"Enter your number1:\"))\n",
    "b=int(input(\"Enter your number2:\"))\n",
    "c=int(input(\"Enter your number3:\"))\n",
    "print(a, b, c, sep = \", \");\n",
    "print(a, b, c, sep = \"/ \");\n",
    "\n"
   ]
  },
  {
   "cell_type": "code",
   "execution_count": null,
   "metadata": {},
   "outputs": [],
   "source": [
    "#20. Write a Python program that accepts an integer (n) and computes the value of n + nn + nnn.\n",
    "a = int(input(\"Input an integer : \"))\n",
    "n1 = int( \"%s\" % a )\n",
    "n2 = int( \"%s%s\" % (a,a) )\n",
    "n3 = int( \"%s%s%s\" % (a,a,a) )\n",
    "print (n1+n2+n3)"
   ]
  },
  {
   "cell_type": "code",
   "execution_count": null,
   "metadata": {},
   "outputs": [],
   "source": [
    "#21. Write a Python program to print the documentation of a Python built-in function(s).\n",
    "print(abs.__doc__)"
   ]
  },
  {
   "cell_type": "code",
   "execution_count": null,
   "metadata": {},
   "outputs": [],
   "source": [
    "#22. Write a Python program to print the following here document. Go to the editor;\n",
    "print(\"\"\"\n",
    "a string that you \"don't\" have to escape\n",
    "This\n",
    "is a  ....... multi-line\n",
    "heredoc string --------> example\n",
    "\"\"\")"
   ]
  },
  {
   "cell_type": "code",
   "execution_count": null,
   "metadata": {},
   "outputs": [],
   "source": [
    "#23. Write a Python program to calculate number of days between two dates; Sample dates : (2014,7, 2), (2014, 7, 11)\n",
    "from datetime import date\n",
    "f_date = date(2014, 7, 2)\n",
    "l_date = date(2014, 7, 11)\n",
    "delta = l_date - f_date\n",
    "print(delta.days)"
   ]
  },
  {
   "cell_type": "code",
   "execution_count": null,
   "metadata": {},
   "outputs": [],
   "source": [
    "#24. Write a Python program to get the volume of a sphere with a given radius.\n",
    "pi = 3.1415926535897931\n",
    "r= float(input(\"Input an integer : \"))\n",
    "V= 4.0/3.0*pi* r**3\n",
    "print('The volume of the sphere is: ',V)"
   ]
  },
  {
   "cell_type": "code",
   "execution_count": null,
   "metadata": {},
   "outputs": [],
   "source": [
    "#25. Write a Python program to get the difference between a given number and 17, if the numberis greater than 17 return double the absolute difference.\n",
    "def difference(n):\n",
    "    if n <= 17:\n",
    "        return 17 - n\n",
    "    else:\n",
    "        return (n - 17) * 2 \n",
    "\n",
    "print(difference(22))\n",
    "print(difference(14))"
   ]
  },
  {
   "cell_type": "code",
   "execution_count": null,
   "metadata": {},
   "outputs": [],
   "source": [
    "#26. Write a Python program to test whether a number is within (less than) 100 or 1000 or 2000 and print the value divided by 5 and multiplied by 25.\n",
    "def near_thousand(n):\n",
    "      return ((abs(1000 - n) <= 100) or (abs(2000 - n) <= 100))\n",
    "print(near_thousand(1000))\n",
    "print(near_thousand(900))\n",
    "print(near_thousand(800))   \n",
    "print(near_thousand(2200))\n"
   ]
  },
  {
   "cell_type": "code",
   "execution_count": null,
   "metadata": {},
   "outputs": [],
   "source": [
    "#27. Write a Python program to calculate the sum of three given numbers, if the values are equalthen return three times of their sum.\n",
    "def sum_thrice(x, y, z):\n",
    "\n",
    "     sum = x + y + z\n",
    "  \n",
    "     if x == y == z:\n",
    "      sum = sum * 3\n",
    "     return sum\n",
    "\n",
    "print(sum_thrice(1, 2, 3))\n",
    "print(sum_thrice(3, 3, 3))"
   ]
  },
  {
   "cell_type": "code",
   "execution_count": null,
   "metadata": {},
   "outputs": [],
   "source": [
    "#28. Write a Python program to swap the values of two given numbers\n",
    " \n",
    "\n",
    "\n",
    "x = input('Enter value of x: ')\n",
    "y = input('Enter value of y: ')\n",
    "\n",
    "x = 5\n",
    "y = 10\n",
    "\n",
    "# create a temporary variable and swap the values\n",
    "temp = x\n",
    "x = y\n",
    "y = temp\n",
    "\n",
    "print('The value of x after swapping: {}'.format(x))\n",
    "print('The value of y after swapping: {}'.format(y))"
   ]
  },
  {
   "cell_type": "code",
   "execution_count": null,
   "metadata": {},
   "outputs": [],
   "source": [
    "#Write a Python program to check whether a specified value is contained in a group of values or if a character is given in a string; Test Data\n",
    "def is_group_member(group_data, n):\n",
    "    for value in group_data:\n",
    "        if n == value:\n",
    "            return True\n",
    "    return False\n",
    "print(is_group_member([1, 5, 8, 3], 3))\n",
    "print(is_group_member([5, 8, 3], -1))"
   ]
  },
  {
   "cell_type": "code",
   "execution_count": null,
   "metadata": {},
   "outputs": [],
   "source": [
    "#30. Write a Python program that will accept the base and height of a triangle and compute thearea.\n",
    "b = int(input(\"Input the base : \"))\n",
    "h = int(input(\"Input the height : \"))\n",
    "\n",
    "area = b*h/2\n",
    "\n",
    "print(\"area = \", area)"
   ]
  },
  {
   "cell_type": "code",
   "execution_count": null,
   "metadata": {},
   "outputs": [],
   "source": [
    "#31. Write a Python program to sum of three given integers. However, if two values are equal sumwill be zero.\n",
    "def sum(x, y, z):\n",
    "    if x == y or y == z or x==z:\n",
    "        sum = 0\n",
    "    else:\n",
    "        sum = x + y + z\n",
    "    return sum\n",
    "\n",
    "print(sum(2, 1, 2))\n",
    "print(sum(3, 2, 2))\n",
    "print(sum(2, 2, 2))\n",
    "print(sum(1, 2, 3))"
   ]
  },
  {
   "cell_type": "code",
   "execution_count": null,
   "metadata": {},
   "outputs": [],
   "source": [
    "#32. Write a Python program to sum of two given integers. However, if the sum is between15 to 20 it will return 20. 30 to 40 it will return 50. 150 to 167 it will return 210.\n",
    "def sum(x, y):\n",
    "    sum = x + y\n",
    "    if sum in range(15, 20):\n",
    "        return 20\n",
    "    else:\n",
    "        return sum\n",
    "\n",
    "print(sum(10, 6))\n",
    "print(sum(10, 2))\n",
    "print(sum(10, 12))"
   ]
  },
  {
   "cell_type": "code",
   "execution_count": null,
   "metadata": {},
   "outputs": [],
   "source": [
    "#33. Write a Python program that will return true if the two given integer values are equal or theirsum or difference is 5.\n",
    "def test_number5(x, y):\n",
    "    if x == y or abs(x-y) == 5 or (x+y) == 5:\n",
    "        return True\n",
    "    else:\n",
    "        return False\n",
    "\n",
    "print(test_number5(7, 2))\n",
    "print(test_number5(3, 2))\n",
    "print(test_number5(2, 2))"
   ]
  },
  {
   "cell_type": "code",
   "execution_count": null,
   "metadata": {},
   "outputs": [],
   "source": [
    "#34. Write a Python program to solve (x + y) ∗ (x + y), x and y are an inputs; Expected Output :((4 + 3)2) = 49\n",
    "x= int(input(\"Input num : \"))\n",
    "y= int(input(\"Input num: \"))\n",
    "  \n",
    "result = x * x + 2 * x * y + y * y\n",
    "print(\"({} + {}) ^ 2) = {}\".format(x, y, result))"
   ]
  },
  {
   "cell_type": "code",
   "execution_count": null,
   "metadata": {},
   "outputs": [],
   "source": [
    "#35. Write a Python program to compute the future value of a specified principal amount, rate of interest, and a number of years.\n",
    "amt = float(input(\"Input num : \"))\n",
    "int = float(input(\"Input num : \"))\n",
    "years = float(input(\"Input num : \"))\n",
    "\n",
    "future_value  = amt*((1+(0.01*int)) ** years)\n",
    "print(round(future_value,2))"
   ]
  },
  {
   "cell_type": "code",
   "execution_count": null,
   "metadata": {},
   "outputs": [],
   "source": [
    "#36. Write a Python program to compute the distance between the points (x1, y1) and (x2, y2). (the distance between two points calculated using Phythagoros theorem)\n",
    "import math\n",
    "p1 = [4, 0]\n",
    "p2 = [6, 6]\n",
    "distance = math.sqrt( ((p1[0]-p2[0])**2)+((p1[1]-p2[1])**2) )\n",
    "\n",
    "print(distance)"
   ]
  },
  {
   "cell_type": "code",
   "execution_count": null,
   "metadata": {},
   "outputs": [],
   "source": [
    "#37. Write a program to get execution time for a Python command. (Use the Jupyter’s magiccommands)import time\n",
    "import time\n",
    "def sum_of_n_numbers(n):\n",
    "    start_time = time.time()\n",
    "    s = 0\n",
    "    for i in range(1,n+1):\n",
    "        s = s + i\n",
    "    end_time = time.time()\n",
    "    return s,end_time-start_time\n",
    "\n",
    "n = 5\n",
    "print(\"\\nTime to sum of 1 to \",n,\" and required time to calculate is :\",sum_of_n_numbers(n))"
   ]
  },
  {
   "cell_type": "code",
   "execution_count": null,
   "metadata": {},
   "outputs": [],
   "source": [
    "#38. Write a Python program to convert height (in feet and inches) to centimeters.\n",
    "print(\"Input your height: \")\n",
    "h_ft = float(input(\"Feet: \"))\n",
    "h_inch = float(input(\"Inches: \"))\n",
    "\n",
    "h_inch += h_ft * 12\n",
    "h_cm = round(h_inch * 2.54, 1)\n",
    "\n",
    "print(\"Your height is : %d cm.\" % h_cm)"
   ]
  },
  {
   "cell_type": "code",
   "execution_count": null,
   "metadata": {},
   "outputs": [],
   "source": [
    "#39. Write a Python program to calculate the hypotenuse of a right-angled triangle.\n",
    "from math import sqrt\n",
    "print(\"Input lengths of shorter triangle sides:\")\n",
    "a = float(input(\"a: \"))\n",
    "b = float(input(\"b: \"))\n",
    "\n",
    "c = sqrt(a**2 + b**2)\n",
    "print(\"The length of the hypotenuse is\", c )"
   ]
  },
  {
   "cell_type": "code",
   "execution_count": null,
   "metadata": {},
   "outputs": [],
   "source": [
    "#40. Write a Python program to convert the distance (in feet) to inches, yards, and miles.\n",
    "d_ft = float(input(\"Input distance in feet: \"))\n",
    "d_inches = d_ft * 12\n",
    "d_yards = d_ft / 3.0\n",
    "d_miles = d_ft / 5280.0\n",
    "\n",
    "print(\"The distance in inches is %i inches.\" % d_inches)\n",
    "print(\"The distance in yards is %.2f yards.\" % d_yards)\n",
    "print(\"The distance in miles is %.2f miles.\" % d_miles)"
   ]
  },
  {
   "cell_type": "code",
   "execution_count": null,
   "metadata": {},
   "outputs": [],
   "source": [
    "#41. Write a Python program to convert the distance (in Minuets) to days, months, and years.\n",
    "days = float(input(\"Input days: \")) * 3600 * 24\n",
    "hours = float(input(\"Input hours: \")) * 3600\n",
    "minutes = float(input(\"Input minutes: \")) * 60\n",
    "seconds = float(input(\"Input seconds: \"))\n",
    "\n",
    "time = days + hours + minutes + seconds\n",
    "\n",
    "print(\"The  amounts of seconds\", time)"
   ]
  },
  {
   "cell_type": "code",
   "execution_count": null,
   "metadata": {},
   "outputs": [],
   "source": [
    "#42. Write a Python program to convert the distance (in Years) months, and days.\n",
    "years =float(input(\"years: \")) * 3600 * 24* 30* 12\n",
    "months = float(input(\"Input months: \")) * 3600 * 24* 30\n",
    "days = float(input(\"Input days: \")) * 3600 * 24\n",
    "\n",
    "\n",
    "\n",
    "time = years + months + days\n",
    "\n",
    "print(\"The  amounts of seconds\", time)"
   ]
  },
  {
   "cell_type": "code",
   "execution_count": null,
   "metadata": {},
   "outputs": [],
   "source": [
    "#43. Write a Python program to calculate body mass index for a give height and Weight.\n",
    "height = float(input(\"Input your height in meters: \"))\n",
    "weight = float(input(\"Input your weight in kilogram: \"))\n",
    "print(\"Your body mass index is: \", round(weight / (height * height), 2))"
   ]
  },
  {
   "cell_type": "code",
   "execution_count": null,
   "metadata": {},
   "outputs": [],
   "source": [
    "#44. Write a Python program to sort five given integers and print them\n",
    "NumList = []\n",
    "\n",
    "Number = int(input(\"Please enter the Total Number of List Elements: \"))\n",
    "for i in range(1, Number + 1):\n",
    "    value = int(input(\"Please enter the Value of %d Element : \" %i))\n",
    "    NumList.append(value)\n",
    "\n",
    "for i in range (Number):\n",
    "    for j in range(i + 1, Number):\n",
    "        if(NumList[i] > NumList[j]):\n",
    "            temp = NumList[i]\n",
    "            NumList[i] = NumList[j]\n",
    "            NumList[j] = temp\n",
    "\n",
    "print(\"Element After Sorting List in Ascending Order is : \", NumList)"
   ]
  },
  {
   "cell_type": "code",
   "execution_count": null,
   "metadata": {},
   "outputs": [],
   "source": [
    "#45.Write a Python program to get the details (documentation) of the math module.\n",
    "import math            \n",
    "print(math.__doc__)"
   ]
  },
  {
   "cell_type": "code",
   "execution_count": null,
   "metadata": {},
   "outputs": [],
   "source": [
    "#46. Write a Python program to get the ASCII code of a given character\n",
    "\n",
    "\n",
    "\n",
    "c = input(\"Enter a character: \")\n",
    "\n",
    "print(\"The ASCII value of '\" + c + \"' is\",ord(c))"
   ]
  },
  {
   "cell_type": "code",
   "execution_count": null,
   "metadata": {},
   "outputs": [],
   "source": [
    "#47. Write a Python program to find the available built-in modules. (built-in modules doesn’t require to be PIP’ed install)\n",
    "import sys\n",
    "import textwrap\n",
    "module_name = ', '.join(sorted(sys.builtin_module_names))\n",
    "print(textwrap.fill(module_name, width=70))"
   ]
  },
  {
   "cell_type": "code",
   "execution_count": null,
   "metadata": {},
   "outputs": [],
   "source": [
    "#48. Write a Python program to get the size of an object in bytes.\n",
    "import sys\n",
    "str1 = \"one\"\n",
    "str2 = \"four\"\n",
    "str3 = \"three\"\n",
    "print()\n",
    "print(\"Memory size of '\"+str1+\"' = \"+str(sys.getsizeof(str1))+ \" bytes\")\n",
    "print(\"Memory size of '\"+str2+\"' = \"+str(sys.getsizeof(str2))+ \" bytes\")\n",
    "print(\"Memory size of '\"+str3+\"' = \"+str(sys.getsizeof(str3))+ \" bytes\")\n",
    "print()"
   ]
  },
  {
   "cell_type": "code",
   "execution_count": null,
   "metadata": {},
   "outputs": [],
   "source": [
    "#49. Write a Python program to concatenate 4 given strings.\n",
    "string1 = input(\"Enter first string to concatenate: \");\n",
    "if string1 == 'x':\n",
    "    exit();\n",
    "else:\n",
    "    string2 = input(\"Enter second string to concatenate: \");\n",
    "    string3 = input(\"Enter third string to concatenate: \");\n",
    "    string4 = string1 + string2 + string3;\n",
    "    print(\"\\nString after concatenation =\",string4);\n",
    "    print(\"String 1 =\",string1);\n",
    "    print(\"String 2 =\",string2);\n",
    "    print(\"String 3 =\",string3);\n",
    "    print(\"String 4 =\",string4);"
   ]
  },
  {
   "cell_type": "code",
   "execution_count": null,
   "metadata": {},
   "outputs": [],
   "source": [
    "#50. Write a Python program to check if a string is numeric (all it’s values are numeric).\n",
    "\n",
    "number = input (\"Enter number\")\n",
    "number_two = input(\"Enter another number\")\n",
    "print(\"Printing type of input value\")\n",
    "\n",
    "print (\"type of number \", type(number))\n",
    "print (\"type of number_two \", type(number_two ))"
   ]
  },
  {
   "cell_type": "code",
   "execution_count": null,
   "metadata": {},
   "outputs": [],
   "source": [
    "#51. Write a Python program to clear the screen or terminal.\n",
    "import os\n",
    "import time\n",
    "# for windows\n",
    "# os.system('cls')\n",
    "os.system(\"ls\")\n",
    "time.sleep(2)\n",
    "# Ubuntu version 10.10\n",
    "os.system('clear')\n"
   ]
  },
  {
   "cell_type": "code",
   "execution_count": null,
   "metadata": {},
   "outputs": [],
   "source": [
    "#52. Write a Python program to check if a number is positive, negative or zero.\n",
    "num = float(input(\"Enter a number: \"))\n",
    "if num > 0:\n",
    "\n",
    "    print(\"Positive number\");\n",
    "elif num == 0:\n",
    "\n",
    "    print(\"Zero\");\n",
    "else:\n",
    "\n",
    "    print(\"Negative number\");"
   ]
  },
  {
   "cell_type": "code",
   "execution_count": null,
   "metadata": {},
   "outputs": [],
   "source": [
    "#53. Write a Python program to input a number, if it is not a number generate an error message.\n",
    "while True:\n",
    "    try:\n",
    "        a = int(input(\"Input a number: \"))\n",
    "        break\n",
    "    except ValueError:\n",
    "        print(\"\\nThis is not a number. Try again...\")\n",
    "        print()\n"
   ]
  },
  {
   "cell_type": "code",
   "execution_count": null,
   "metadata": {},
   "outputs": [],
   "source": [
    "#54. Write a Python program to prove that two string variables of same value point same memory location.\n",
    "str1 = \"Python\"\n",
    "str2 = \"Python\"\n",
    " \n",
    "print(\"\\nMemory location of str1 =\", hex(id(str1)))\n",
    "print(\"Memory location of str2 =\", hex(id(str2)))\n",
    "print()"
   ]
  },
  {
   "cell_type": "code",
   "execution_count": null,
   "metadata": {},
   "outputs": [],
   "source": [
    "#55. Write a Python program to prove that two string variables are equals.\n",
    "str1 = \"Python\"\n",
    "str2 = \"Python\"\n",
    " \n",
    "print(\"\\nMemory location of str1 =\", hex(id(str1)))\n",
    "print(\"Memory location of str2 =\", hex(id(str2)))\n",
    "print()"
   ]
  },
  {
   "cell_type": "code",
   "execution_count": null,
   "metadata": {},
   "outputs": [],
   "source": [
    "#56. Write a Python program to empty a variable without destroying it.\n",
    "n = 20\n",
    "d = {\"x\":200}\n",
    "l = [1,3,5]\n",
    "t= (5,7,8)\n",
    "print(type(n)())\n",
    "print(type(d)())\n",
    "print(type(l)())\n",
    "print(type(t)()) "
   ]
  },
  {
   "cell_type": "code",
   "execution_count": null,
   "metadata": {},
   "outputs": [],
   "source": [
    "#57. Write a Python program to check if lowercase letters exist in a string.\n",
    "str1 = 'A8238i823acdeOUEI'\n",
    "print(any(c.islower() for c in str1))"
   ]
  },
  {
   "cell_type": "code",
   "execution_count": null,
   "metadata": {},
   "outputs": [],
   "source": [
    "#58. Write a Python program to add leading zeroes to a string.\n",
    "str1='122.22'\n",
    "print(\"Original String: \",str1)\n",
    "str1 = str1.ljust(8, '0')\n",
    "print(str1)\n",
    "str1 = str1.ljust(10, '0')\n",
    "print(str1)"
   ]
  },
  {
   "cell_type": "code",
   "execution_count": null,
   "metadata": {},
   "outputs": [],
   "source": [
    "#59. Write a Python program to calculate the time runs (difference between start and current time)of a program.\n",
    "from timeit import default_timer\n",
    "def timer(n):\n",
    "    start = default_timer()\n",
    "    # some code here\n",
    "    for row in range(0,n):\n",
    "        print(row)\n",
    "    print(default_timer() - start)\n",
    "\n",
    "timer(5)\n",
    "timer(15)"
   ]
  },
  {
   "cell_type": "code",
   "execution_count": null,
   "metadata": {},
   "outputs": [],
   "source": [
    "#60. Write a Python program to convert an integer to binary keep leading zeros.\n",
    "x = int(input(\"Enter a number: \"))\n",
    "print(format(x, '08b'))\n",
    "print(format(x, '010b'))"
   ]
  },
  {
   "cell_type": "code",
   "execution_count": null,
   "metadata": {},
   "outputs": [],
   "source": [
    "#61. Write a Python program to input two integers in a single line.\n",
    "print(\"Input the value of x & y\")\n",
    "x, y = map(int, input().split())\n",
    "print(\"The value of x & y are: \",x,y)"
   ]
  },
  {
   "cell_type": "code",
   "execution_count": 4,
   "metadata": {},
   "outputs": [
    {
     "name": "stdout",
     "output_type": "stream",
     "text": [
      "Input the value of x & y\n",
      "30 4\n",
      "1e\n",
      "04\n"
     ]
    }
   ],
   "source": [
    "#62. Write a python program to convert decimal to hexadecimal.\n",
    "print(\"Input the value of x & y\")\n",
    "x, y = map(int, input().split())\n",
    "\n",
    "print(format(x, '02x'))\n",
    "\n",
    "print(format(y, '02x'))"
   ]
  },
  {
   "cell_type": "code",
   "execution_count": 22,
   "metadata": {},
   "outputs": [
    {
     "name": "stdout",
     "output_type": "stream",
     "text": [
      "Please enter the Total Number of List Elements: 1\n",
      "Please enter the Value of 1 Element : 3\n",
      "Element After Sorting List in Ascending Order is :  [3]\n",
      "(75, -5)\n"
     ]
    }
   ],
   "source": [
    "#63. Write a Python function to find the maximum and minimum numbers from a sequence of numbers.\n",
    "\n",
    "\n",
    "\n",
    "def max_min(data):\n",
    "\n",
    "  l = data[0]\n",
    "  s = data[0]\n",
    "  for num in data:\n",
    "    if num> l:\n",
    "      l = num\n",
    "    elif num< s:\n",
    "        s = num\n",
    "  return l, s\n",
    "\n",
    "print(max_min([0, 10, 15, 40, -5, 42, 17, 28, 75]))"
   ]
  },
  {
   "cell_type": "code",
   "execution_count": null,
   "metadata": {},
   "outputs": [],
   "source": []
  },
  {
   "cell_type": "code",
   "execution_count": null,
   "metadata": {},
   "outputs": [],
   "source": []
  }
 ],
 "metadata": {
  "kernelspec": {
   "display_name": "Python 3",
   "language": "python",
   "name": "python3"
  },
  "language_info": {
   "codemirror_mode": {
    "name": "ipython",
    "version": 3
   },
   "file_extension": ".py",
   "mimetype": "text/x-python",
   "name": "python",
   "nbconvert_exporter": "python",
   "pygments_lexer": "ipython3",
   "version": "3.7.3"
  }
 },
 "nbformat": 4,
 "nbformat_minor": 2
}
