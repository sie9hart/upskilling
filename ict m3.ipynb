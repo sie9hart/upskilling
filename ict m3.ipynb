{
 "cells": [
  {
   "cell_type": "code",
   "execution_count": null,
   "metadata": {},
   "outputs": [],
   "source": [
    "#1. Reverse a given number loops and equations and return true if it is the same as the original number.\n",
    "n=int(input(\"Enter number: \"))\n",
    "rev=0\n",
    "while(n>0):\n",
    "    dig=n%10\n",
    "    rev=rev*10+dig\n",
    "    n=n//10\n",
    "print(\"Reverse of the number:\",rev)"
   ]
  },
  {
   "cell_type": "code",
   "execution_count": null,
   "metadata": {},
   "outputs": [],
   "source": [
    "#2. Write a Python program to remove the nth index character from a nonempty string.\n",
    "def remove_char(str, n):\n",
    "      first_part = str[:n] \n",
    "      last_part = str[n+1:]\n",
    "      return first_part + last_part\n",
    "print(remove_char('Python', 0))\n",
    "print(remove_char('Python', 3))\n",
    "print(remove_char('Python', 5))"
   ]
  },
  {
   "cell_type": "code",
   "execution_count": null,
   "metadata": {},
   "outputs": [],
   "source": [
    "#3. Write a Python program to calculate the length of a string.\n",
    "def string_length(str1):\n",
    "    count = 0\n",
    "    for char in str1:\n",
    "        count += 1\n",
    "    return count\n",
    "print(string_length('prince of persia'))"
   ]
  },
  {
   "cell_type": "code",
   "execution_count": null,
   "metadata": {},
   "outputs": [],
   "source": [
    "#4. loop over a string and each time delete the last two character until no characters left.\n",
    "list1 = input(\"Enter your string:\")\n",
    "\n",
    "for char in list1:\n",
    "    list1 = list1[:-2];\n",
    "    \n",
    "    print (list1)\n",
    "         \n",
    "\n",
    "\n"
   ]
  },
  {
   "cell_type": "code",
   "execution_count": null,
   "metadata": {},
   "outputs": [],
   "source": [
    "#5. Write a Python program to create a string contains the unique characters in a string.\n",
    "def splitString(str): \n",
    "  \n",
    "    alpha = \"\" \n",
    "    num = \"\" \n",
    "    special = \"\" \n",
    "    for i in range(len(str)): \n",
    "        if (str[i].isdigit()): \n",
    "            num = num+ str[i] \n",
    "        elif((str[i] >= 'A' and str[i] <= 'Z') or\n",
    "             (str[i] >= 'a' and str[i] <= 'z')): \n",
    "            alpha += str[i] \n",
    "        else: \n",
    "            special += str[i] \n",
    "        j=num+special\n",
    "    print(num ) \n",
    "    print(special) \n",
    "    print(j)\n",
    "  \n",
    "if __name__ == \"__main__\": \n",
    "      \n",
    "    str = input(\"Enter your string:\")\n",
    "    splitString(str)"
   ]
  },
  {
   "cell_type": "code",
   "execution_count": null,
   "metadata": {},
   "outputs": [],
   "source": [
    "#6. Write a Python program to count the number of occurrences of characters (character frequency) in a string.\n",
    "def char_frequency(str1):\n",
    "    dict = {}\n",
    "    for n in str1:\n",
    "        keys = dict.keys()\n",
    "        if n in keys:\n",
    "            dict[n] += 1\n",
    "        else:\n",
    "            dict[n] = 1\n",
    "    return dict\n",
    "print(char_frequency('google.com'))\n"
   ]
  },
  {
   "cell_type": "code",
   "execution_count": null,
   "metadata": {},
   "outputs": [],
   "source": [
    "#7. Write a Python program to get a string made of the first 2 and the last 2 chars from a given a string. If the string length is less than 2, return instead of the empty string.\n",
    "def string_both_ends(str):\n",
    "  if len(str) < 2:\n",
    "    return ''\n",
    "\n",
    "  return str[0:2] + str[-2:]\n",
    "\n",
    "print(string_both_ends('mohammad'))\n",
    "print(string_both_ends('moh'))\n",
    "print(string_both_ends('m'))"
   ]
  },
  {
   "cell_type": "code",
   "execution_count": null,
   "metadata": {},
   "outputs": [],
   "source": [
    "#8. Write a Python program to get a string from a given string where all occurrences of its first char have been changed to ’$’, except the first char itself.\n",
    "def change_char(str1):\n",
    "  char = str1[0]\n",
    "  str1 = str1.replace(char, '$')\n",
    "  str1 = char + str1[1:]\n",
    "\n",
    "  return str1\n",
    "\n",
    "print(change_char('restart'))"
   ]
  },
  {
   "cell_type": "code",
   "execution_count": null,
   "metadata": {},
   "outputs": [],
   "source": [
    "#9. Write a Python program that takes a string split it into list of words and returns the length of each one.\n",
    "txt = \"welcome to the jungle\" \n",
    "x = txt.split()\n",
    "for element in x:\n",
    "    \n",
    "    \n",
    "    \n",
    "    \n",
    "    print (len(element))\n",
    "\n"
   ]
  },
  {
   "cell_type": "code",
   "execution_count": null,
   "metadata": {},
   "outputs": [],
   "source": [
    "#10. Write a Python program to check whether a string starts with specified characters.\n",
    "string = \"mohammad\"\n",
    "print(string.startswith(\"moh\"))"
   ]
  },
  {
   "cell_type": "code",
   "execution_count": null,
   "metadata": {},
   "outputs": [],
   "source": [
    "#11.Write a Python program to get the last part of a string before a specified character.\n",
    "str1 = 'https://www.w3resource.com/python-exercises/string'\n",
    "print(str1.rsplit('/', 1)[0])\n",
    "print(str1.rsplit('-', 1)[0])"
   ]
  },
  {
   "cell_type": "code",
   "execution_count": null,
   "metadata": {},
   "outputs": [],
   "source": [
    "#12. Write a Python program to print the following integers with zeros on the left of specified width.\n",
    "x = 3\n",
    "y = 123\n",
    "print(\"\\nOriginal Number: \", x)\n",
    "print(\"Formatted Number(left padding, width 2): \"+\"{:0>2d}\".format(x));\n",
    "print(\"Original Number: \", y)\n",
    "print(\"Formatted Number(left padding, width 6): \"+\"{:0>6d}\".format(y));\n",
    "print()"
   ]
  },
  {
   "cell_type": "code",
   "execution_count": null,
   "metadata": {},
   "outputs": [],
   "source": [
    "#13. Write a Python program to print the following floating numbers with no decimal places.\n",
    "x = 3.1415926\n",
    "y = -12.9999\n",
    "print(\"\\nOriginal Number: \", x)\n",
    "print(\"Formatted Number with no decimal places: \"+\"{:.0f}\".format(x));\n",
    "print(\"Original Number: \", y)\n",
    "print(\"Formatted Number with no decimal places: \"+\"{:.0f}\".format(y));\n",
    "print()"
   ]
  },
  {
   "cell_type": "code",
   "execution_count": null,
   "metadata": {},
   "outputs": [],
   "source": [
    "#14. Write a Python program to display a number with a comma separator.\n",
    "x = 3000000\n",
    "y = 30000000\n",
    "print(\"\\nOriginal Number: \", x)\n",
    "print(\"Formatted Number with comma separator: \"+\"{:,}\".format(x));\n",
    "print(\"Original Number: \", y)\n",
    "print(\"Formatted Number with comma separator: \"+\"{:,}\".format(y));\n",
    "print()"
   ]
  },
  {
   "cell_type": "code",
   "execution_count": null,
   "metadata": {},
   "outputs": [],
   "source": [
    "#15. Write a Python program to strip a set of characters from a string.\n",
    "def strip_chars(str, chars):\n",
    "    return \"\".join(c for c in str if c not in chars)\n",
    "\n",
    "print(\"\\nOriginal String: \")\n",
    "print(\"The quick brown fox jumps over the lazy dog.\")\n",
    "print(\"After stripping a,e,i,o,u\")      \n",
    "print(strip_chars(\"The quick brown fox jumps over the lazy dog.\", \"aeiou\"))\n",
    "print()"
   ]
  },
  {
   "cell_type": "code",
   "execution_count": null,
   "metadata": {},
   "outputs": [],
   "source": [
    "#16. Write a Python program to swap comma and dot in a string.\n",
    "amount = \"32.054,23\"\n",
    "maketrans = amount.maketrans\n",
    "amount = amount.translate(maketrans(',.', '.,'))\n",
    "print(amount)"
   ]
  },
  {
   "cell_type": "code",
   "execution_count": null,
   "metadata": {},
   "outputs": [],
   "source": [
    "#17. Write a Python program to find the second most repeated word in a given string.\n",
    "def word_count(str):\n",
    "    counts = dict()\n",
    "    words = str.split()\n",
    "\n",
    "    for word in words:\n",
    "        if word in counts:\n",
    "            counts[word] += 1\n",
    "        else:\n",
    "            counts[word] = 1\n",
    "\n",
    "    counts_x = sorted(counts.items(), key=lambda kv: kv[1])\n",
    "    #print(counts_x)\n",
    "    return counts_x[-2]\n",
    " \n",
    "print(word_count(\"Both of these issues are fixed by postponing the evaluation of annotations. Instead of compiling code which executes expressions in annotations at their definition time, the compiler stores the annotation in a string form equivalent to the AST of the expression in question. If needed, annotations can be resolved at runtime using typing.get_type_hints(). In the common case where this is not required, the annotations are cheaper to store (since short strings are interned by the interpreter) and make startup time faster.\"))\n"
   ]
  },
  {
   "cell_type": "code",
   "execution_count": null,
   "metadata": {},
   "outputs": [],
   "source": [
    "#18. Write a Python program to capitalize first and last letters of each word of a given string.\n",
    "def capitalize_first_last_letters(str1):\n",
    "     str1 = result = str1.title()\n",
    "     result =  \"\"\n",
    "     for word in str1.split():\n",
    "        result += word[:-1] + word[-1].upper() + \" \"\n",
    "     return result[:-1]  \n",
    "     \n",
    "print(capitalize_first_last_letters(\"the cycle of life and death continues we will live they will die  \"))\n",
    "print(capitalize_first_last_letters(\"mohammad\"))\n"
   ]
  },
  {
   "cell_type": "code",
   "execution_count": null,
   "metadata": {},
   "outputs": [],
   "source": [
    "#19. Write a Python program that takes a string split it into list of words and returns the length of the longest one.\n",
    "def find_longest_word(words_list):\n",
    "    word_len = []\n",
    "    for n in words_list:\n",
    "        word_len.append((len(n), n))\n",
    "    word_len.sort()\n",
    "    return word_len[-1][1]\n",
    "mylist=[\"they\", \"will\", \"regret\"]\n",
    "print(find_longest_word((mylist)))"
   ]
  },
  {
   "cell_type": "code",
   "execution_count": null,
   "metadata": {},
   "outputs": [],
   "source": [
    "#20. on the previous exercise add all the list strings into one string adding the letters ’Y!’ before each.\n",
    " \n",
    "def find_longest_word(words_list):\n",
    "    word_len = []\n",
    "    for n in words_list:\n",
    "        word_len.append((len(n), n))\n",
    "    word_len.sort()\n",
    "    return word_len[-1][1]\n",
    "mylist=[\"they\", \"will\", \"regret\"]\n",
    "\n",
    "print('’Y!’'.join(mylist))"
   ]
  },
  {
   "cell_type": "code",
   "execution_count": null,
   "metadata": {},
   "outputs": [],
   "source": [
    "#21. Write a Python program to remove a newline in the beginning and ending of a string.\n",
    "str1='Python Exercises\\n'\n",
    "print(str1.rstrip())\n",
    "print(str1.rstrip())"
   ]
  },
  {
   "cell_type": "code",
   "execution_count": null,
   "metadata": {},
   "outputs": [],
   "source": [
    "#22. Write a Python program to sort a string lexicographically.\n",
    "def lexicographi_sort(s):\n",
    "    return sorted(sorted(s), key=str.upper)\n",
    "\n",
    "print(lexicographi_sort('mohammad'))\n",
    "print(lexicographi_sort('talon'))\n",
    "\n"
   ]
  },
  {
   "cell_type": "code",
   "execution_count": null,
   "metadata": {},
   "outputs": [],
   "source": [
    "# 23. Write a Python program to convert a given string to all uppercase if it contains at least 2 uppercase characters in the first 4 characters else convert it to lower case.\n",
    "def to_uppercase(str1):\n",
    "    num_upper = 0\n",
    "    for letter in str1[:4]: \n",
    "        if letter.upper() == letter:\n",
    "            num_upper += 1\n",
    "    if num_upper >= 2:\n",
    "        return str1.upper()\n",
    "    return str1\n",
    "\n",
    "print(to_uppercase('Python'))\n",
    "print(to_uppercase('PyThon'))"
   ]
  },
  {
   "cell_type": "code",
   "execution_count": null,
   "metadata": {},
   "outputs": [],
   "source": [
    "#24.Write a Python program to get a string made of 4 copies of the last two characters of a specified string (length must be at least 2).\n",
    "def insert_end(str):\n",
    "    sub_str = str[-2:]\n",
    "    return sub_str * 4\n",
    "\n",
    "print(insert_end('Python'))\n",
    "print(insert_end('Exercises'))\n"
   ]
  },
  {
   "cell_type": "code",
   "execution_count": null,
   "metadata": {},
   "outputs": [],
   "source": [
    "#26.Write a Python program to create a Caesar cipher.\n",
    "def caesar_encrypt(realText, step):\n",
    "\toutText = []\n",
    "\tcryptText = []\n",
    "\t\n",
    "\tuppercase = ['A', 'B', 'C', 'D', 'E', 'F', 'G', 'H', 'I', 'J', 'K', 'L', 'M', 'N', 'O', 'P', 'Q', 'R', 'S', 'T', 'U', 'V', 'W', 'X', 'Y', 'Z']\n",
    "\tlowercase = ['a', 'b', 'c', 'd', 'e', 'f', 'g', 'h', 'i', 'j', 'k', 'l', 'm', 'n', 'o', 'p', 'q', 'r', 's', 't', 'u', 'v', 'w', 'x', 'y', 'z']\n",
    "\n",
    "\tfor eachLetter in realText:\n",
    "\t\tif eachLetter in uppercase:\n",
    "\t\t\tindex = uppercase.index(eachLetter)\n",
    "\t\t\tcrypting = (index + step) % 26\n",
    "\t\t\tcryptText.append(crypting)\n",
    "\t\t\tnewLetter = uppercase[crypting]\n",
    "\t\t\toutText.append(newLetter)\n",
    "\t\telif eachLetter in lowercase:\n",
    "\t\t\tindex = lowercase.index(eachLetter)\n",
    "\t\t\tcrypting = (index + step) % 26\n",
    "\t\t\tcryptText.append(crypting)\n",
    "\t\t\tnewLetter = lowercase[crypting]\n",
    "\t\t\toutText.append(newLetter)\n",
    "\treturn outText\n",
    "\n",
    "X = input(\"Enter your string:\")\n",
    "    \n",
    "code = caesar_encrypt(X, 2)\n",
    "print()\n",
    "print(code)\n",
    "print()\n",
    "\n"
   ]
  },
  {
   "cell_type": "code",
   "execution_count": null,
   "metadata": {},
   "outputs": [],
   "source": [
    "#26. Write a Python program to check if a string contains only letters of the English alphabet.\n",
    "\n",
    "\n",
    "def checkPangram(s): \n",
    "\tList = [] \n",
    "\n",
    "\tfor i in range(26): \n",
    "\t\tList.append(False) \n",
    "\t\t\n",
    " \n",
    "\tfor c in s.lower(): \n",
    "\t\tif not c == \" \": \n",
    "\n",
    "\t\t\tList[ord(c) -ord('a')]=True\n",
    "\t\t\t\n",
    "\n",
    "\tfor ch in List: \n",
    "\t\tif ch == False: \n",
    "\t\t\treturn False\n",
    "\treturn True\n",
    "\n",
    "\n",
    "sentence = \"The quick brown fox jumps over the little lazy dog\"\n",
    "\n",
    "if (checkPangram(sentence)): \n",
    "\tprint ('\"'+sentence+'\"')\n",
    "\tprint (\"is a pangram\")\n",
    "else: \n",
    "\tprint ('\"'+sentence+'\"')\n",
    "\tprint (\"is not a pangram\")\n",
    "\n",
    "# This code is contributed by Danish Mushtaq \n"
   ]
  },
  {
   "cell_type": "code",
   "execution_count": null,
   "metadata": {},
   "outputs": [],
   "source": [
    "#27. Write a Python program to check if a string contains all letters of the alphabet.\n",
    "import string\n",
    "alphabet = set(string.ascii_lowercase)\n",
    "input_string = 'The quick brown fox jumps over the lazy dog'\n",
    "print(set(input_string.lower()) >= alphabet)\n",
    "input_string = 'The quick brown fox jumps over the lazy cat'\n",
    "print(set(input_string.lower()) >= alphabet)"
   ]
  },
  {
   "cell_type": "code",
   "execution_count": null,
   "metadata": {},
   "outputs": [],
   "source": [
    "#28. Write a Python program converting even indexed characters to upper and odd index characters to lower.\n",
    "x = \"seMi Long StRing WiTH COMPLetely RaNDOM CasINg\"\n",
    "result_string = \"\"\n",
    "index = 0;\n",
    "for c in x:\n",
    "    if(index%2 == 0):\n",
    "        result_string += c.lower()\n",
    "    else:\n",
    "        result_string += c.upper()\n",
    "    index+=1\n",
    "\n",
    "print(result_string)"
   ]
  },
  {
   "cell_type": "code",
   "execution_count": null,
   "metadata": {},
   "outputs": [],
   "source": [
    "#29. Write a Python program to create a string from two given strings concatenating uncommon characters of the two strings.\n",
    "\n",
    "def uncommonConcat(str1, str2): \n",
    "\n",
    "\t# convert both strings into set \n",
    "\tset1 = set(str1) \n",
    "\tset2 = set(str2) \n",
    "\n",
    "\n",
    "\tcommon = list(set1 & set2) \n",
    "\n",
    "\n",
    "\tresult = [ch for ch in str1 if ch not in common] + \\\n",
    "             [ch for ch in str2 if ch not in common]; print (''.join(result)) \n",
    "\n",
    "\n",
    "        \n",
    "\n",
    "\n",
    "\n",
    "\n",
    "if __name__ == \"__main__\": \n",
    "\tstr1 = 'aacdb'\n",
    "\tstr2 = 'gafd'\n",
    "\tuncommonConcat(str1,str2) \n",
    "\n"
   ]
  },
  {
   "cell_type": "code",
   "execution_count": null,
   "metadata": {},
   "outputs": [],
   "source": [
    "#30. Write a Python program to chick if a string is Palindrome .\n",
    "\n",
    "num=int(input(\"Enter a number:\"))\n",
    "temp=num\n",
    "rev=0\n",
    "while(num>0):\n",
    "    dig=num%10\n",
    "    rev=rev*10+dig\n",
    "    num=num//10\n",
    "if(temp==rev):\n",
    "    print(\"The number is palindrome!\")\n",
    "else:\n",
    "    print(\"Not a palindrome!\")"
   ]
  },
  {
   "cell_type": "code",
   "execution_count": null,
   "metadata": {},
   "outputs": [],
   "source": [
    "#31. Write a Python program to display a floating number in specified numbers (specified number of digits after the ’.’).\n",
    "order_amt = 212.374\n",
    "print('\\nThe total order amount comes to %f' % order_amt)\n",
    "print('The total order amount comes to %.2f' % order_amt)\n",
    "print()"
   ]
  },
  {
   "cell_type": "code",
   "execution_count": null,
   "metadata": {},
   "outputs": [],
   "source": [
    "#32. Write a Python program to format a specified string to limit the number of characters to 6 always.\n",
    "str_num = \"1234567890\"\n",
    "print()\n",
    "print('%.6s' % str_num)\n",
    "print()"
   ]
  },
  {
   "cell_type": "code",
   "execution_count": null,
   "metadata": {},
   "outputs": [],
   "source": [
    "#33. Write a Python program to split a variable length string into variables.\n",
    "var_list = ['a', 'b', 'c']\n",
    "x, y, z = (var_list + [None] * 3)[:3]\n",
    "print(x, y, z)\n",
    "var_list = [100, 20.25]\n",
    "x, y = (var_list + [None] * 2)[:2]\n",
    "print(x, y)"
   ]
  },
  {
   "cell_type": "code",
   "execution_count": null,
   "metadata": {},
   "outputs": [],
   "source": [
    "#34. Write a Python program to create all possible strings by using ’a’, ’e’, ’i’, ’o’, ’u’. Use the characters exactly once.\n",
    "import random\n",
    "char_list = ['a','e','i','o','u']\n",
    "random.shuffle(char_list)\n",
    "print(''.join(char_list))"
   ]
  },
  {
   "cell_type": "code",
   "execution_count": null,
   "metadata": {},
   "outputs": [],
   "source": [
    "#35. Write a Python program to print a long text, convert the string to a list and print all the words and their frequencies.\n",
    "string_words = '''United States Declaration of Independence\n",
    "From Wikipedia, the free encyclopedia\n",
    "The United States Declaration of Independence is the statement\n",
    "adopted by the Second Continental Congress meeting at the Pennsylvania State\n",
    "House (Independence Hall) in Philadelphia on July 4, 1776, which announced\n",
    "that the thirteen American colonies, then at war with the Kingdom of Great\n",
    "Britain, regarded themselves as thirteen independent sovereign states, no longer\n",
    "under British rule. These states would found a new nation – the United States of\n",
    "America. John Adams was a leader in pushing for independence, which was passed\n",
    "on July 2 with no opposing vote cast. A committee of five had already drafted the\n",
    "formal declaration, to be ready when Congress voted on independence.\n",
    "\n",
    "John Adams persuaded the committee to select Thomas Jefferson to compose the original\n",
    "draft of the document, which Congress would edit to produce the final version.\n",
    "The Declaration was ultimately a formal explanation of why Congress had voted on July\n",
    "2 to declare independence from Great Britain, more than a year after the outbreak of\n",
    "the American Revolutionary War. The next day, Adams wrote to his wife Abigail: \"The\n",
    "Second Day of July 1776, will be the most memorable Epocha, in the History of America.\"\n",
    "But Independence Day is actually celebrated on July 4, the date that the Declaration of\n",
    "Independence was approved.\n",
    "\n",
    "'''\n",
    "\n",
    "word_list = string_words.split()\n",
    "\n",
    "word_freq = [word_list.count(n) for n in word_list]\n",
    "\n",
    "print(\"String:\\n {} \\n\".format(string_words))\n",
    "print(\"List:\\n {} \\n\".format(str(word_list)))\n",
    "print(\"Pairs (Words and Frequencies:\\n {}\".format(str(list(zip(word_list, word_freq)))))"
   ]
  },
  {
   "cell_type": "code",
   "execution_count": null,
   "metadata": {},
   "outputs": [],
   "source": [
    "#36. Write a Python program to replace each character of a given text with the appropriate number between 0 and 25.\n",
    "input = input('Write Text: ')\n",
    "input = input.lower()\n",
    "output = []\n",
    "for character in input:\n",
    "    number = ord(character) - 96\n",
    "    output.append(number)\n",
    "print (output)"
   ]
  },
  {
   "cell_type": "code",
   "execution_count": null,
   "metadata": {},
   "outputs": [],
   "source": [
    "#Write a Python program to find the number of digits at the result of factorizing a given positive numbers n\n",
    "num = int(input(\"Enter a number: \"))\n",
    "\n",
    "factorial = 1\n",
    "\n",
    "if num < 0:\n",
    "   print(\"Sorry, factorial does not exist for negative numbers\")\n",
    "elif num == 0:\n",
    "   print(\"The factorial of 0 is 1\")\n",
    "else:\n",
    "   for i in range(1,num + 1):\n",
    "       factorial = factorial*i\n",
    "print(\"The factorial of\",num,\"is\",factorial)\n",
    "print (\" the number of digits\"len(str(factorial)))\n"
   ]
  },
  {
   "cell_type": "code",
   "execution_count": null,
   "metadata": {},
   "outputs": [],
   "source": [
    "#38. Write a Python program to find the value of n where n degrees of number 2 are written sequentially in a line without spaces.\n",
    "def ndegrees(num):\n",
    "  ans = True\n",
    "  n, tempn, i = 2, 2, 2\n",
    "  while ans:\n",
    "    if str(tempn) in num:\n",
    "      i += 1\n",
    "      tempn = pow(n, i)\n",
    "    else:\n",
    "      ans = False\n",
    "  return i-1;\n",
    "print(ndegrees(\"2481632\"))  ;print(ndegrees(\"248163264\"))"
   ]
  },
  {
   "cell_type": "code",
   "execution_count": null,
   "metadata": {},
   "outputs": [],
   "source": [
    "#39. Write a Python program to find the number of notes (Sample of notes: 10, 20, 50, 100, 200 and 500 ) against an given amount.\n",
    "def no_notes(a):\n",
    "  Q = [500, 200, 100, 50, 20, 10]\n",
    "  x = 0\n",
    "  for i in range(6):\n",
    "    q = Q[i]\n",
    "    x += int(a / q)\n",
    "    a = int(a % q)\n",
    "  if a > 0:\n",
    "    x = -1\n",
    "  return x\n",
    "print(no_notes(880))\n",
    "print(no_notes(1000))"
   ]
  },
  {
   "cell_type": "code",
   "execution_count": null,
   "metadata": {},
   "outputs": [],
   "source": [
    "#40. Write a Python program to find the type of the progression (arithmetic progression/geometric progression) and the next successive member of a given three successive members of a sequence.\n",
    "def ap_gp_sequence(arr):\n",
    "  if arr[0]==arr[1]==arr[2]==0:\n",
    "    return \"Wrong Numbers\"\n",
    "  else:\n",
    "    if arr[1]-arr[0]==arr[2]-arr[1]:\n",
    "      n=2*arr[2]-arr[1]\n",
    "      return \"AP sequence, \"+'Next number of the sequence: '+str(n)\n",
    "    else:\n",
    "      n=arr[2]**2/arr[1]\n",
    "      return \"GP sequence, \" + 'Next number of the sequence:  '+str(n)\n",
    "\n",
    "print(ap_gp_sequence([1,2,3]))\n",
    "print(ap_gp_sequence([2,6,18]))\n",
    "print(ap_gp_sequence([0,0,0]))"
   ]
  },
  {
   "cell_type": "code",
   "execution_count": null,
   "metadata": {},
   "outputs": [],
   "source": [
    "#41. Write a Python program to find all common divisors between two numbers in a given pair.\n",
    "def ngcd(x, y):\n",
    "    i=1\n",
    "    while(i<=x and i<=y):\n",
    "        if(x%i==0 and y%i == 0):\n",
    "            gcd=i;\n",
    "        i+=1\n",
    "    return gcd;\n",
    "def num_comm_div(x, y):\n",
    "  n = ngcd(x, y)\n",
    "  result = 0\n",
    "  z = int(n**0.5)\n",
    "  i = 1\n",
    "  while( i <= z ):\n",
    "    if(n % i == 0):\n",
    "      result += 2 \n",
    "      if(i == n/i):\n",
    "        result-=1\n",
    "    i+=1\n",
    "  return result\n",
    "\n",
    "print(\"Number of common divisors: \",num_comm_div(2, 4))\n",
    "print(\"Number of common divisors: \",num_comm_div(2, 8))\n",
    "print(\"Number of common divisors: \",num_comm_div(12, 24))"
   ]
  },
  {
   "cell_type": "code",
   "execution_count": null,
   "metadata": {},
   "outputs": [],
   "source": [
    "#42. Write a Python program to count the number of carry operations for each of a set of addition problems.\n",
    "def carry_number(x, y):\n",
    "  ctr = 0\n",
    "  if(x == 0 and y == 0):\n",
    "    return 0\n",
    "  z = 0  \n",
    "  for i in reversed(range(10)):\n",
    "      z = x%10 + y%10 + z\n",
    "      if z > 9:\n",
    "        z = 1\n",
    "      else:\n",
    "        z = 0\n",
    "      ctr += z\n",
    "      x //= 10\n",
    "      y //= 10\n",
    "      \n",
    "  if ctr == 0:\n",
    "    return \"No carry operation.\"\n",
    "  elif ctr == 1:\n",
    "    return ctr\n",
    "  else:\n",
    "    return ctr\n",
    "print(carry_number(786, 457))\n",
    "print(carry_number(5, 6))"
   ]
  },
  {
   "cell_type": "code",
   "execution_count": null,
   "metadata": {},
   "outputs": [],
   "source": [
    "#43. Write a Python program to compute the sum the count of digit number of two given integers;\n",
    "num = int(input(\"Enter a number: \"))\n",
    "num2 = int(input(\"Enter a number: \"))\n",
    "\n",
    "g=len(str(num)) +len(str(num2))\n",
    "\n",
    "print(g)\n"
   ]
  },
  {
   "cell_type": "code",
   "execution_count": null,
   "metadata": {},
   "outputs": [],
   "source": [
    "#44. . Write a Python program to compute the amount of the debt in n months.\n",
    "\n",
    "def round_n(n):\n",
    "    if n%1000:\n",
    "        return (1+n//1000)*1000\n",
    "    else:\n",
    "        return n\n",
    "     \n",
    "def compute_debt(n):\n",
    "    if n==0: return 100000\n",
    "    return int(round_n(compute_debt(n-1)*1.05))\n",
    "\n",
    "print(\"Input number of months:\")\n",
    "result = compute_debt(int(input()))\n",
    "print(\"Amount of debt: \",\"$\"+str(result).strip())"
   ]
  },
  {
   "cell_type": "code",
   "execution_count": null,
   "metadata": {},
   "outputs": [],
   "source": [
    "#45. Write a Python program which reads a text (only alphabetical characters and spaces.) and prints two words.\n",
    "import collections\n",
    "print(\"Input a text in a line.\")\n",
    "text_list = list(map(str, input().split()))\n",
    "sc = collections.Counter(text_list)\n",
    "common_word = sc.most_common()[0][0]\n",
    "max_char = \"\"\n",
    "for s in text_list:\n",
    "    if len(max_char) < len(s):\n",
    "        max_char = s\n",
    "print(\"\\nMost frequent text and the word which has the maximum number of letters.\")\n",
    "print(common_word, max_char)"
   ]
  },
  {
   "cell_type": "code",
   "execution_count": null,
   "metadata": {},
   "outputs": [],
   "source": [
    "# 46. Write a Python program which reads the two adjoined sides and the diagonal of a parallelogram and check whether the parallelogram is a rectangle or a rhombus.\n",
    "print(\"Input two adjoined sides and the diagonal of a parallelogram (comma separated):\")\n",
    "a,b,c = map(int, input().split(\",\"))\n",
    "if c**2 == a**2+b**2 :\n",
    "    print(\"This is a rectangle.\")\n",
    "if a == b:\n",
    "    print(\"This is a rhombus.\")"
   ]
  },
  {
   "cell_type": "code",
   "execution_count": null,
   "metadata": {},
   "outputs": [],
   "source": [
    "#47. Write a Python program to replace a string ”Python” with ”Java” and ”Java” with ”Python” in a given string at the same time.\n",
    "print(\"Input a text with two words 'Python' and 'Java'\")\n",
    "text = input().split()\n",
    "for i in range(len(text)):\n",
    "    if \"Python\" in text[i]:n = text[i].index(\"Python\");text[i] = text[i][:n] + \"Java\" + text[i][n + 6:]\n",
    "    elif \"Java\" in text[i]:n = text[i].index(\"Java\");text[i] = text[i][:n] + \"Python\" + text[i][n + 4:]\n",
    "print(*text)\n"
   ]
  },
  {
   "cell_type": "code",
   "execution_count": null,
   "metadata": {},
   "outputs": [],
   "source": [
    " \n",
    "import math \n",
    "MAX = 10000; \n",
    "\n",
    "\n",
    "primes = []; \n",
    "\n",
    " \n",
    "def sieveSundaram(): \n",
    "\n",
    "\n",
    "\tmarked = [False] * (int(MAX / 2) + 100); \n",
    "\n",
    "\n",
    "\tfor i in range(1, int((math.sqrt(MAX) - 1) / 2) + 1): \n",
    "\t\tfor j in range((i * (i + 1)) << 1, \n",
    "\t\t\t\t\t\tint(MAX / 2) + 1, 2 * i + 1): \n",
    "\t\t\tmarked[j] = True; \n",
    "\n",
    " \n",
    "\tprimes.append(2); \n",
    "\n",
    " \n",
    "\tfor i in range(1, int(MAX / 2) + 1): \n",
    "\t\tif (marked[i] == False): \n",
    "\t\t\tprimes.append(2 * i + 1); \n",
    "\n",
    " \n",
    "def findPrimes(n): \n",
    "\t\n",
    " \n",
    "\tif (n <= 2 or n % 2 != 0): \n",
    "\t\tprint(\"Invalid Input\"); \n",
    "\t\treturn; \n",
    "\n",
    "\n",
    "\ti = 0; \n",
    "\twhile (primes[i] <= n // 2): \n",
    "\n",
    "        \n",
    " \n",
    "\t\tdiff = n - primes[i]; \n",
    "\n",
    "\n",
    "\t\tif diff in primes: \n",
    "\t\t\t\n",
    "\t\t\t# Express as a sum of primes \n",
    "\t\t\tprint(primes[i], \"+\", diff, \"=\", n); \n",
    "\t\t\treturn; \n",
    "\t\ti += 1; \n",
    "\n",
    " \n",
    "\n",
    "\n",
    "sieveSundaram(); \n",
    "\n",
    " \n",
    "findPrimes(6); \n",
    "findPrimes(38); \n",
    "findPrimes(100); \n",
    "\n",
    " \n",
    "\n",
    "      \n"
   ]
  },
  {
   "cell_type": "code",
   "execution_count": null,
   "metadata": {},
   "outputs": [],
   "source": [
    "#49. There are 10 vertical and horizontal squares on a plane. Each square is painted blue and green. Blue represents the sea, and green represents the land.\n",
    "c=0\n",
    "def f(x,y,z):\n",
    "    if 0<=y<10 and 0<=z<10 and x[z][y]=='1':\n",
    "        x[z][y]='0'\n",
    "        for dy,dz in [[-1,0],[1,0],[0,-1],[0,1]]:f(x,y+dy,z+dz)\n",
    "print(\"Input 10 rows of 10 numbers representing green squares (island) as 1 and blue squares (sea) as zeros\") \n",
    "while 1:\n",
    "    try:\n",
    "        if c:input()\n",
    "    except:break\n",
    "    x = [list(input()) for _ in [0]*10]\n",
    "    c=1;b=0\n",
    "    for i in range(10):\n",
    "        for j in range(10):\n",
    "            if x[j][i]=='1':\n",
    "                b+=1;f(x,i,j)\n",
    "    print(\"Number of islands:\")     \n",
    "    print(b)"
   ]
  },
  {
   "cell_type": "code",
   "execution_count": null,
   "metadata": {},
   "outputs": [],
   "source": [
    "#50.Write a Python program to cut out words of 3 to 6 characters length from a given sentence not more than 1024 characters.\n",
    "print(\"Input a sentence (1024 characters. max.)\")\n",
    "yy = input()\n",
    "yy = yy.replace(\",\", \" \")\n",
    "yy = yy.replace(\".\", \" \")\n",
    "print(\"3 to 6 characters length of words:\")\n",
    "print(*[y for y in yy.split() if 3 <= len(y) <= 6])"
   ]
  },
  {
   "cell_type": "code",
   "execution_count": null,
   "metadata": {},
   "outputs": [],
   "source": [
    "#51.Write a Python program to find the first appearance of the substring 'not' and 'poor' from a given string, if 'not' follows the 'poor', replace the whole 'not'...'poor' substring with 'good'. Return the resulting string.\n",
    "\n",
    "def not_poor(str1):\n",
    "  snot = str1.find('not')\n",
    "  spoor = str1.find('poor')\n",
    "  \n",
    "\n",
    "  if spoor > snot and snot>0 and spoor>0:\n",
    "    str1 = str1.replace(str1[snot:(spoor+4)], 'good')\n",
    "    return str1\n",
    "  else:\n",
    "    return str1\n",
    "print(not_poor('The lyrics is not that poor!'))\n",
    "print(not_poor('The lyrics is poor!'))"
   ]
  },
  {
   "cell_type": "code",
   "execution_count": null,
   "metadata": {},
   "outputs": [],
   "source": [
    "#52. Write a Python program to remove leading zeros from an IP address.\n",
    "\n",
    "def remove_zeros_from_ip(ip_add):\n",
    "  new_ip_add = \".\".join([str(int(i)) for i in ip_add.split(\".\")])  \n",
    "  return new_ip_add ;\n",
    "\n",
    "print(remove_zeros_from_ip(\"255.024.01.01\"))\n",
    "print(remove_zeros_from_ip(\"127.0.0.01 \"))"
   ]
  },
  {
   "cell_type": "code",
   "execution_count": null,
   "metadata": {},
   "outputs": [],
   "source": []
  }
 ],
 "metadata": {
  "kernelspec": {
   "display_name": "Python 3",
   "language": "python",
   "name": "python3"
  },
  "language_info": {
   "codemirror_mode": {
    "name": "ipython",
    "version": 3
   },
   "file_extension": ".py",
   "mimetype": "text/x-python",
   "name": "python",
   "nbconvert_exporter": "python",
   "pygments_lexer": "ipython3",
   "version": "3.7.3"
  }
 },
 "nbformat": 4,
 "nbformat_minor": 2
}
